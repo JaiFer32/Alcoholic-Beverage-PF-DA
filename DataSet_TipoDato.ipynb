{
  "nbformat": 4,
  "nbformat_minor": 0,
  "metadata": {
    "colab": {
      "provenance": [],
      "mount_file_id": "1UPs1DSfcuCljmQ7nsxZ8R4wfZAELL1gm",
      "authorship_tag": "ABX9TyN95d2RImlpp+BNU4AkHXF9",
      "include_colab_link": true
    },
    "kernelspec": {
      "name": "python3",
      "display_name": "Python 3"
    },
    "language_info": {
      "name": "python"
    }
  },
  "cells": [
    {
      "cell_type": "markdown",
      "metadata": {
        "id": "view-in-github",
        "colab_type": "text"
      },
      "source": [
        "<a href=\"https://colab.research.google.com/github/JaiFer32/Alcoholic-Beverage-PF-DA/blob/main/DataSet_TipoDato.ipynb\" target=\"_parent\"><img src=\"https://colab.research.google.com/assets/colab-badge.svg\" alt=\"Open In Colab\"/></a>"
      ]
    },
    {
      "cell_type": "markdown",
      "source": [
        "## *Proceso ETL de tablas principales para la base de datos Alcoholic Beverage\n"
      ],
      "metadata": {
        "id": "owYS8gWd_AaD"
      }
    },
    {
      "cell_type": "code",
      "source": [
        "import pandas as pd\n",
        "\n",
        "# Leer el archivo CSV\n",
        "df = pd.read_csv('/content/drive/MyDrive/Henry - Proyecto Final/DataSet_PF/DataSet_SQL/BegInv_mod.csv')\n",
        "\n",
        "# Verificar y convertir los tipos de datos\n",
        "df['InventoryId'] = df['InventoryId'].astype(str)\n",
        "df['Store'] = df['Store'].astype(str)\n",
        "df['City'] = df['City'].astype(str)\n",
        "df['Brand'] = df['Brand'].astype(str)\n",
        "df['Description'] = df['Description'].astype(str)\n",
        "df['Size'] = df['Size'].astype(str)\n",
        "df['onHand'] = pd.to_numeric(df['onHand'], errors='coerce', downcast='integer')\n",
        "df['Price'] = pd.to_numeric(df['Price'], errors='coerce')\n",
        "df['startDate'] = pd.to_datetime(df['startDate'], errors='coerce')\n",
        "\n",
        "# Guardar el DataFrame modificado en un nuevo archivo CSV\n",
        "df.to_csv('/content/drive/MyDrive/Henry - Proyecto Final/DataSet_PF/DataSet_SQL/DataSetSQL_TipoDatoMod/BegInv_mod1.csv', index=False)\n",
        "\n",
        "# Mostrar los primeros registros para verificar\n",
        "print(df.head())\n"
      ],
      "metadata": {
        "colab": {
          "base_uri": "https://localhost:8080/"
        },
        "id": "1mDChETEU6t6",
        "outputId": "c2d2997f-bca5-4573-f438-3797002a77a0"
      },
      "execution_count": null,
      "outputs": [
        {
          "output_type": "stream",
          "name": "stdout",
          "text": [
            "         InventoryId Store          City Brand                  Description  \\\n",
            "0  1_HARDERSFIELD_58     1  HARDERSFIELD    58  Gekkeikan Black & Gold Sake   \n",
            "1  1_HARDERSFIELD_60     1  HARDERSFIELD    60       Canadian Club 1858 VAP   \n",
            "2  1_HARDERSFIELD_62     1  HARDERSFIELD    62     Herradura Silver Tequila   \n",
            "3  1_HARDERSFIELD_63     1  HARDERSFIELD    63   Herradura Reposado Tequila   \n",
            "4  1_HARDERSFIELD_72     1  HARDERSFIELD    72         No. 3 London Dry Gin   \n",
            "\n",
            "    Size  onHand  Price  startDate  \n",
            "0  750mL       8  12.99 2016-01-01  \n",
            "1  750mL       7  10.99 2016-01-01  \n",
            "2  750mL       6  36.99 2016-01-01  \n",
            "3  750mL       3  38.99 2016-01-01  \n",
            "4  750mL       6  34.99 2016-01-01  \n"
          ]
        }
      ]
    },
    {
      "cell_type": "code",
      "source": [
        "import pandas as pd\n",
        "\n",
        "# Lee el archivo CSV\n",
        "df = pd.read_csv('/content/drive/MyDrive/Henry - Proyecto Final/DataSet_PF/DataSet_SQL/DataSetSQL_TipoDatoMod/BegInv_mod1.csv')\n",
        "\n",
        "# Obtén los tipos de datos de cada columna\n",
        "data_types = df.dtypes\n",
        "\n",
        "# Imprime los tipos de datos\n",
        "print(data_types)"
      ],
      "metadata": {
        "colab": {
          "base_uri": "https://localhost:8080/"
        },
        "id": "_N3_jHD4Ip1Z",
        "outputId": "231bf29d-fde8-4ae6-80a1-783305cf7baa"
      },
      "execution_count": null,
      "outputs": [
        {
          "output_type": "stream",
          "name": "stdout",
          "text": [
            "InventoryId     object\n",
            "Store            int64\n",
            "City            object\n",
            "Brand            int64\n",
            "Description     object\n",
            "Size            object\n",
            "onHand           int64\n",
            "Price          float64\n",
            "startDate       object\n",
            "dtype: object\n"
          ]
        }
      ]
    },
    {
      "cell_type": "code",
      "source": [
        "# Leer el archivo CSV\n",
        "df = pd.read_csv('/content/drive/MyDrive/Henry - Proyecto Final/DataSet_PF/DataSet_SQL/EndInv_mod.csv')\n",
        "\n",
        "# Verificar y convertir los tipos de datos\n",
        "df['InventoryId'] = df['InventoryId'].astype(str)\n",
        "df['Store'] = df['Store'].astype(str)\n",
        "df['City'] = df['City'].astype(str)\n",
        "df['Brand'] = df['Brand'].astype(str)\n",
        "df['Description'] = df['Description'].astype(str)\n",
        "df['Size'] = df['Size'].astype(str)\n",
        "df['onHand'] = pd.to_numeric(df['onHand'], errors='coerce', downcast='integer')\n",
        "df['Price'] = pd.to_numeric(df['Price'], errors='coerce')\n",
        "df['endDate'] = pd.to_datetime(df['endDate'], errors='coerce')\n",
        "\n",
        "# Guardar el DataFrame modificado en un nuevo archivo CSV\n",
        "df.to_csv('/content/drive/MyDrive/Henry - Proyecto Final/DataSet_PF/DataSet_SQL/DataSetSQL_TipoDatoMod/EndInv_mod1.csv', index=False)\n",
        "\n",
        "# Mostrar los primeros registros para verificar\n",
        "print(df.head())\n"
      ],
      "metadata": {
        "colab": {
          "base_uri": "https://localhost:8080/"
        },
        "id": "ReK4rIWEVyyg",
        "outputId": "7f8f1b88-d2bb-4204-c802-414a7da81c86"
      },
      "execution_count": null,
      "outputs": [
        {
          "output_type": "stream",
          "name": "stdout",
          "text": [
            "         InventoryId Store          City Brand                  Description  \\\n",
            "0  1_HARDERSFIELD_58     1  HARDERSFIELD    58  Gekkeikan Black & Gold Sake   \n",
            "1  1_HARDERSFIELD_62     1  HARDERSFIELD    62     Herradura Silver Tequila   \n",
            "2  1_HARDERSFIELD_63     1  HARDERSFIELD    63   Herradura Reposado Tequila   \n",
            "3  1_HARDERSFIELD_72     1  HARDERSFIELD    72         No. 3 London Dry Gin   \n",
            "4  1_HARDERSFIELD_75     1  HARDERSFIELD    75    Three Olives Tomato Vodka   \n",
            "\n",
            "    Size  onHand  Price    endDate  \n",
            "0  750mL      11  12.99 2016-12-31  \n",
            "1  750mL       7  36.99 2016-12-31  \n",
            "2  750mL       7  38.99 2016-12-31  \n",
            "3  750mL       4  34.99 2016-12-31  \n",
            "4  750mL       7  14.99 2016-12-31  \n"
          ]
        }
      ]
    },
    {
      "cell_type": "code",
      "execution_count": null,
      "metadata": {
        "colab": {
          "base_uri": "https://localhost:8080/"
        },
        "id": "lHq6BixjHMam",
        "outputId": "8dc07a92-9050-4261-f5e2-1ba3cf7c460d"
      },
      "outputs": [
        {
          "output_type": "stream",
          "name": "stdout",
          "text": [
            "  Brand                  Description  Price   Size  Volume Classification  \\\n",
            "0    58  Gekkeikan Black & Gold Sake  12.99  750mL   750.0              1   \n",
            "1    62     Herradura Silver Tequila  36.99  750mL   750.0              1   \n",
            "2    63   Herradura Reposado Tequila  38.99  750mL   750.0              1   \n",
            "3    72         No. 3 London Dry Gin  34.99  750mL   750.0              1   \n",
            "4    75    Three Olives Tomato Vodka  14.99  750mL   750.0              1   \n",
            "\n",
            "   PurchasePrice VendorNumber                   VendorName  \n",
            "0           9.28         8320  SHAW ROSS INT L IMP LTD      \n",
            "1          28.67         1128  BROWN-FORMAN CORP            \n",
            "2          30.46         1128  BROWN-FORMAN CORP            \n",
            "3          26.11         9165  ULTRA BEVERAGE COMPANY LLP   \n",
            "4          10.94         7245  PROXIMO SPIRITS INC.         \n"
          ]
        }
      ],
      "source": [
        "import pandas as pd\n",
        "\n",
        "# Leer el archivo CSV\n",
        "df = pd.read_csv('/content/drive/MyDrive/Henry - Proyecto Final/DataSet_PF/DataSet_SQL/PurchasePriceDec2017_mod.csv')\n",
        "\n",
        "# Verificar y convertir los tipos de datos\n",
        "df['VendorNumber'] = df['VendorNumber'].astype(str)\n",
        "df['VendorName'] = df['VendorName'].astype(str)\n",
        "df['Brand'] = df['Brand'].astype(str)\n",
        "df['Description'] = df['Description'].astype(str)\n",
        "df['Size'] = df['Size'].astype(str)\n",
        "df['Volume'] = pd.to_numeric(df['Volume'], errors='coerce')\n",
        "df['Classification'] = df['Classification'].astype(str)\n",
        "df['PurchasePrice'] = pd.to_numeric(df['PurchasePrice'], errors='coerce')\n",
        "\n",
        "# Guardar el DataFrame modificado en un nuevo archivo CSV\n",
        "df.to_csv('/content/drive/MyDrive/Henry - Proyecto Final/DataSet_PF/DataSet_SQL/DataSetSQL_TipoDatoMod/PurchasePriceDec2017_mod1.csv', index=False)\n",
        "\n",
        "# Mostrar los primeros registros para verificar\n",
        "print(df.head())\n"
      ]
    },
    {
      "cell_type": "code",
      "source": [
        "# Leer el archivo CSV\n",
        "df = pd.read_csv('/content/drive/MyDrive/Henry - Proyecto Final/DataSet_PF/DataSet_SQL/InvoicePurchase_mod.csv')\n",
        "\n",
        "# Verificar y convertir los tipos de datos\n",
        "df['VendorNumber'] = df['VendorNumber'].astype(str)\n",
        "df['VendorName'] = df['VendorName'].astype(str)\n",
        "df['InvoiceDate'] = pd.to_datetime(df['InvoiceDate'], errors='coerce')\n",
        "df['PONumber'] = df['PONumber'].astype(str)\n",
        "df['PODate'] = pd.to_datetime(df['PODate'], errors='coerce')\n",
        "df['PayDate'] = pd.to_datetime(df['PayDate'], errors='coerce')\n",
        "df['Quantity'] = pd.to_numeric(df['Quantity'], errors='coerce', downcast='integer')\n",
        "df['Dollars'] = pd.to_numeric(df['Dollars'], errors='coerce')\n",
        "df['Freight'] = pd.to_numeric(df['Freight'], errors='coerce')\n",
        "df['Approval'] = df['Approval'].astype(str)\n",
        "\n",
        "# Guardar el DataFrame modificado en un nuevo archivo CSV\n",
        "df.to_csv('/content/drive/MyDrive/Henry - Proyecto Final/DataSet_PF/DataSet_SQL/DataSetSQL_TipoDatoMod/InvoicePurchase_mod1.csv', index=False)\n",
        "\n",
        "# Mostrar los primeros registros para verificar\n",
        "print(df.head())\n"
      ],
      "metadata": {
        "colab": {
          "base_uri": "https://localhost:8080/"
        },
        "id": "YIaV5-6cOFOy",
        "outputId": "94db4991-ba66-4fba-b69d-a69184db0a41"
      },
      "execution_count": null,
      "outputs": [
        {
          "output_type": "stream",
          "name": "stdout",
          "text": [
            "  VendorNumber                   VendorName InvoiceDate PONumber     PODate  \\\n",
            "0          105  ALTAMAR BRANDS LLC           2016-01-04     8124 2015-12-21   \n",
            "1         4466  AMERICAN VINTAGE BEVERAGE    2016-01-07     8137 2015-12-22   \n",
            "2          388  ATLANTIC IMPORTING COMPANY   2016-01-09     8169 2015-12-24   \n",
            "3          480  BACARDI USA INC              2016-01-12     8106 2015-12-20   \n",
            "4          516  BANFI PRODUCTS CORP          2016-01-07     8170 2015-12-24   \n",
            "\n",
            "     PayDate  Quantity    Dollars  Freight Approval  \n",
            "0 2016-02-16         6     214.26     3.47      nan  \n",
            "1 2016-02-21        15     140.55     8.57      nan  \n",
            "2 2016-02-16         5     106.60     4.61      nan  \n",
            "3 2016-02-05     10100  137483.78  2935.20      nan  \n",
            "4 2016-02-12      1935   15527.25   429.20      nan  \n"
          ]
        }
      ]
    },
    {
      "cell_type": "code",
      "source": [
        "# Leer el archivo CSV\n",
        "df = pd.read_csv('/content/drive/MyDrive/Henry - Proyecto Final/DataSet_PF/DataSet_SQL/PurchaseFinal_mod.csv')\n",
        "\n",
        "# Verificar y convertir los tipos de datos\n",
        "df['InventoryId'] = df['InventoryId'].astype(str)\n",
        "df['Store'] = df['Store'].astype(str)\n",
        "df['Brand'] = df['Brand'].astype(str)\n",
        "df['Description'] = df['Description'].astype(str)\n",
        "df['Size'] = df['Size'].astype(str)\n",
        "df['VendorNumber'] = df['VendorNumber'].astype(str)\n",
        "df['VendorName'] = df['VendorName'].astype(str)\n",
        "df['PONumber'] = df['PONumber'].astype(str)\n",
        "df['PODate'] = pd.to_datetime(df['PODate'], errors='coerce')\n",
        "df['ReceivingDate'] = pd.to_datetime(df['ReceivingDate'], errors='coerce')\n",
        "df['InvoiceDate'] = pd.to_datetime(df['InvoiceDate'], errors='coerce')\n",
        "df['PayDate'] = pd.to_datetime(df['PayDate'], errors='coerce')\n",
        "df['PurchasePrice'] = pd.to_numeric(df['PurchasePrice'], errors='coerce')\n",
        "df['Quantity'] = pd.to_numeric(df['Quantity'], errors='coerce', downcast='integer')\n",
        "df['Dollars'] = pd.to_numeric(df['Dollars'], errors='coerce')\n",
        "df['Classification'] = df['Classification'].astype(str)\n",
        "\n",
        "# Guardar el DataFrame modificado en un nuevo archivo CSV\n",
        "df.to_csv('/content/drive/MyDrive/Henry - Proyecto Final/DataSet_PF/DataSet_SQL/DataSetSQL_TipoDatoMod/PurchaseFinal_mod1.csv', index=False)\n",
        "\n",
        "# Mostrar los primeros registros para verificar\n",
        "print(df.head())\n"
      ],
      "metadata": {
        "colab": {
          "base_uri": "https://localhost:8080/"
        },
        "id": "XWp3fD_tX3J_",
        "outputId": "4c6b0abd-b66c-463c-c2c7-c60089350209"
      },
      "execution_count": null,
      "outputs": [
        {
          "output_type": "stream",
          "name": "stdout",
          "text": [
            "           InventoryId Store Brand                   Description   Size  \\\n",
            "0    69_MOUNTMEND_8412    69  8412     Tequila Ocho Plata Fresno  750mL   \n",
            "1     30_CULCHETH_5255    30  5255  TGI Fridays Ultimte Mudslide  1.75L   \n",
            "2    34_PITMERDEN_5215    34  5215  TGI Fridays Long Island Iced  1.75L   \n",
            "3  1_HARDERSFIELD_5255     1  5255  TGI Fridays Ultimte Mudslide  1.75L   \n",
            "4    76_DONCASTER_2034    76  2034     Glendalough Double Barrel  750mL   \n",
            "\n",
            "  VendorNumber                   VendorName PONumber     PODate ReceivingDate  \\\n",
            "0          105  ALTAMAR BRANDS LLC              8124 2015-12-21    2016-01-02   \n",
            "1         4466  AMERICAN VINTAGE BEVERAGE       8137 2015-12-22    2016-01-01   \n",
            "2         4466  AMERICAN VINTAGE BEVERAGE       8137 2015-12-22    2016-01-02   \n",
            "3         4466  AMERICAN VINTAGE BEVERAGE       8137 2015-12-22    2016-01-01   \n",
            "4          388  ATLANTIC IMPORTING COMPANY      8169 2015-12-24    2016-01-02   \n",
            "\n",
            "  InvoiceDate    PayDate  PurchasePrice  Quantity  Dollars Classification  \n",
            "0  2016-01-04 2016-02-16          35.71         6   214.26              1  \n",
            "1  2016-01-07 2016-02-21           9.35         4    37.40              1  \n",
            "2  2016-01-07 2016-02-21           9.41         5    47.05              1  \n",
            "3  2016-01-07 2016-02-21           9.35         6    56.10              1  \n",
            "4  2016-01-09 2016-02-16          21.32         5   106.60              1  \n"
          ]
        }
      ]
    },
    {
      "cell_type": "code",
      "source": [
        "# Leer el archivo CSV\n",
        "df = pd.read_csv('/content/drive/MyDrive/Henry - Proyecto Final/DataSet_PF/DataSet_SQL/SalesFinal_mod.csv')\n",
        "\n",
        "# Verificar y convertir los tipos de datos\n",
        "df['InventoryId'] = df['InventoryId'].astype(str)\n",
        "df['Store'] = df['Store'].astype(str)\n",
        "df['Brand'] = df['Brand'].astype(str)\n",
        "df['Description'] = df['Description'].astype(str)\n",
        "df['Size'] = df['Size'].astype(str)\n",
        "df['SalesQuantity'] = pd.to_numeric(df['SalesQuantity'], errors='coerce', downcast='integer')\n",
        "df['SalesDollars'] = pd.to_numeric(df['SalesDollars'], errors='coerce')\n",
        "df['SalesPrice'] = pd.to_numeric(df['SalesPrice'], errors='coerce')\n",
        "df['SalesDate'] = pd.to_datetime(df['SalesDate'], errors='coerce')\n",
        "df['Volume'] = pd.to_numeric(df['Volume'], errors='coerce')\n",
        "df['Classification'] = df['Classification'].astype(str)\n",
        "df['ExciseTax'] = pd.to_numeric(df['ExciseTax'], errors='coerce')\n",
        "df['VendorNo'] = df['VendorNo'].astype(str)\n",
        "df['VendorName'] = df['VendorName'].astype(str)\n",
        "\n",
        "# Guardar el DataFrame modificado en un nuevo archivo CSV\n",
        "df.to_csv('/content/drive/MyDrive/Henry - Proyecto Final/DataSet_PF/DataSet_SQL/DataSetSQL_TipoDatoMod/SalesFinal_mod1.csv', index=False)\n",
        "\n",
        "# Mostrar los primeros registros para verificar\n",
        "print(df.head())\n"
      ],
      "metadata": {
        "colab": {
          "base_uri": "https://localhost:8080/"
        },
        "id": "7b-Xdg10ZHwb",
        "outputId": "74673315-96d3-4e1c-e712-2072a11446e2"
      },
      "execution_count": null,
      "outputs": [
        {
          "output_type": "stream",
          "name": "stdout",
          "text": [
            "           InventoryId Store Brand                 Description        Size  \\\n",
            "0  1_HARDERSFIELD_1004     1  1004  Jim Beam w/2 Rocks Glasses       750mL   \n",
            "1  1_HARDERSFIELD_1004     1  1004  Jim Beam w/2 Rocks Glasses       750mL   \n",
            "2  1_HARDERSFIELD_1004     1  1004  Jim Beam w/2 Rocks Glasses       750mL   \n",
            "3  1_HARDERSFIELD_1004     1  1004  Jim Beam w/2 Rocks Glasses       750mL   \n",
            "4  1_HARDERSFIELD_1005     1  1005     Maker's Mark Combo Pack  375mL 2 Pk   \n",
            "\n",
            "   SalesQuantity  SalesDollars  SalesPrice  SalesDate  Volume Classification  \\\n",
            "0              1         16.49       16.49 2016-01-01     750              1   \n",
            "1              2         32.98       16.49 2016-01-02     750              1   \n",
            "2              1         16.49       16.49 2016-01-03     750              1   \n",
            "3              1         14.49       14.49 2016-01-08     750              1   \n",
            "4              2         69.98       34.99 2016-01-09     375              1   \n",
            "\n",
            "   ExciseTax VendorNo                   VendorName  \n",
            "0       0.79    12546  JIM BEAM BRANDS COMPANY      \n",
            "1       1.57    12546  JIM BEAM BRANDS COMPANY      \n",
            "2       0.79    12546  JIM BEAM BRANDS COMPANY      \n",
            "3       0.79    12546  JIM BEAM BRANDS COMPANY      \n",
            "4       0.79    12546  JIM BEAM BRANDS COMPANY      \n"
          ]
        }
      ]
    },
    {
      "cell_type": "code",
      "source": [
        "from google.colab import drive\n",
        "drive.mount('/content/drive')\n",
        "\n",
        "import pandas as pd\n",
        "\n",
        "# Lista de archivos CSV\n",
        "files = [\n",
        "    'big_inventory_modified.csv',\n",
        "    'end_inventory_modified.csv',\n",
        "    'invoice_purchases_modified.csv',\n",
        "    'purchase_prices_2017_modified.csv',\n",
        "    'purchases_final_modified.csv',\n",
        "    'sales_final_modified.csv'\n",
        "]\n",
        "\n",
        "# Ruta del directorio donde se encuentran los archivos\n",
        "directory = '/content/drive/MyDrive/Henry - Proyecto Final/DataSet_PF/DataSet_SQL1/'\n",
        "\n",
        "# Iterar sobre cada archivo y obtener los tipos de datos\n",
        "for file in files:\n",
        "    # Cargar el archivo CSV\n",
        "    df = pd.read_csv(directory + file)\n",
        "\n",
        "    # Mostrar el nombre del archivo y los tipos de datos\n",
        "    print(f'Tipos de datos para {file}:')\n",
        "    print(df.dtypes)\n",
        "    print('\\n')  # Línea en blanco para mejor legibilidad"
      ],
      "metadata": {
        "id": "adzlgmpGZhnE",
        "colab": {
          "base_uri": "https://localhost:8080/"
        },
        "outputId": "a0c639f2-45b3-450d-954c-2ddb80ec4c74"
      },
      "execution_count": null,
      "outputs": [
        {
          "output_type": "stream",
          "name": "stdout",
          "text": [
            "Drive already mounted at /content/drive; to attempt to forcibly remount, call drive.mount(\"/content/drive\", force_remount=True).\n",
            "Tipos de datos para big_inventory_modified.csv:\n",
            "InventoryId     object\n",
            "Store            int64\n",
            "City            object\n",
            "Brand            int64\n",
            "Description     object\n",
            "Size            object\n",
            "onHand           int64\n",
            "Price          float64\n",
            "startDate       object\n",
            "dtype: object\n",
            "\n",
            "\n",
            "Tipos de datos para end_inventory_modified.csv:\n",
            "InventoryId     object\n",
            "Store            int64\n",
            "City            object\n",
            "Brand            int64\n",
            "Description     object\n",
            "Size            object\n",
            "onHand           int64\n",
            "Price          float64\n",
            "endDate         object\n",
            "dtype: object\n",
            "\n",
            "\n",
            "Tipos de datos para invoice_purchases_modified.csv:\n",
            "VendorNumber      int64\n",
            "VendorName       object\n",
            "InvoiceDate      object\n",
            "PONumber          int64\n",
            "PODate           object\n",
            "PayDate          object\n",
            "Quantity          int64\n",
            "Dollars         float64\n",
            "Freight         float64\n",
            "Approval         object\n",
            "dtype: object\n",
            "\n",
            "\n",
            "Tipos de datos para purchase_prices_2017_modified.csv:\n",
            "Brand               int64\n",
            "Description        object\n",
            "Price             float64\n",
            "Size               object\n",
            "Volume             object\n",
            "Classification      int64\n",
            "PurchasePrice     float64\n",
            "VendorNumber        int64\n",
            "VendorName         object\n",
            "dtype: object\n",
            "\n",
            "\n",
            "Tipos de datos para purchases_final_modified.csv:\n",
            "InventoryId        object\n",
            "Store               int64\n",
            "Brand               int64\n",
            "Description        object\n",
            "Size               object\n",
            "VendorNumber        int64\n",
            "VendorName         object\n",
            "PONumber            int64\n",
            "PODate             object\n",
            "ReceivingDate      object\n",
            "InvoiceDate        object\n",
            "PayDate            object\n",
            "PurchasePrice     float64\n",
            "Quantity            int64\n",
            "Dollars           float64\n",
            "Classification      int64\n",
            "dtype: object\n",
            "\n",
            "\n",
            "Tipos de datos para sales_final_modified.csv:\n",
            "InventoryId        object\n",
            "Store               int64\n",
            "Brand               int64\n",
            "Description        object\n",
            "Size               object\n",
            "SalesQuantity       int64\n",
            "SalesDollars      float64\n",
            "SalesPrice        float64\n",
            "SalesDate          object\n",
            "Volume              int64\n",
            "Classification      int64\n",
            "ExciseTax         float64\n",
            "VendorNo            int64\n",
            "VendorName         object\n",
            "dtype: object\n",
            "\n",
            "\n"
          ]
        }
      ]
    },
    {
      "cell_type": "code",
      "source": [
        "import pandas as pd\n",
        "\n",
        "# Leer el archivo CSV\n",
        "df = pd.read_csv('/content/drive/MyDrive/Henry - Proyecto Final/DataSet_PF/DataSet_SQL1/invoice_purchases_modified.csv')\n",
        "\n",
        "# Convertir la columna de fecha al formato adecuado\n",
        "df['InvoiceDate'] = pd.to_datetime(df['InvoiceDate'], format='%Y-%m-%d').dt.strftime('%Y-%m-%d')\n",
        "\n",
        "# Guardar el DataFrame modificado en un nuevo archivo CSV\n",
        "df.to_csv('/content/drive/MyDrive/Henry - Proyecto Final/DataSet_PF/DataSet_SQL1/invoice_purchases_modified.csv', index=False)"
      ],
      "metadata": {
        "id": "NG3foMTCucis"
      },
      "execution_count": null,
      "outputs": []
    },
    {
      "cell_type": "code",
      "source": [
        "import pandas as pd\n",
        "\n",
        "# Lee el archivo CSV\n",
        "df = pd.read_csv('/content/drive/MyDrive/Henry - Proyecto Final/DataSet_PF/DataSet_SQL1/invoice_purchases_modified.csv')\n",
        "\n",
        "# Explorar la tabla\n",
        "print(df.head()) # Muestra las primeras 5 filas\n",
        "print(df.info()) # Muestra información general de la tabla, incluyendo tipos de datos\n",
        "\n",
        "# Explorar el tipo de dato de la columna 'InvoiceDate'\n",
        "print(df['InvoiceDate'].dtype) # Imprime el tipo de dato de la columna\n",
        "print(df['InvoiceDate'].describe()) # Muestra estadísticas descriptivas de la columna de fecha (si aplica)\n",
        "\n",
        "# Verificar valores únicos y su frecuencia en la columna 'InvoiceDate'\n",
        "print(df['InvoiceDate'].value_counts())"
      ],
      "metadata": {
        "colab": {
          "base_uri": "https://localhost:8080/"
        },
        "id": "ZCDM3AxBUwyI",
        "outputId": "4a5f9f41-984a-44d1-9fae-359aee4d4d10"
      },
      "execution_count": null,
      "outputs": [
        {
          "output_type": "stream",
          "name": "stdout",
          "text": [
            "   VendorNumber                   VendorName InvoiceDate  PONumber  \\\n",
            "0           105  ALTAMAR BRANDS LLC           2016-01-04      8124   \n",
            "1          4466  AMERICAN VINTAGE BEVERAGE    2016-01-07      8137   \n",
            "2           388  ATLANTIC IMPORTING COMPANY   2016-01-09      8169   \n",
            "3           480  BACARDI USA INC              2016-01-12      8106   \n",
            "4           516  BANFI PRODUCTS CORP          2016-01-07      8170   \n",
            "\n",
            "       PODate     PayDate  Quantity    Dollars  Freight Approval  \n",
            "0  2015-12-21  2016-02-16         6     214.26     3.47      NaN  \n",
            "1  2015-12-22  2016-02-21        15     140.55     8.57      NaN  \n",
            "2  2015-12-24  2016-02-16         5     106.60     4.61      NaN  \n",
            "3  2015-12-20  2016-02-05     10100  137483.78  2935.20      NaN  \n",
            "4  2015-12-24  2016-02-12      1935   15527.25   429.20      NaN  \n",
            "<class 'pandas.core.frame.DataFrame'>\n",
            "RangeIndex: 5543 entries, 0 to 5542\n",
            "Data columns (total 10 columns):\n",
            " #   Column        Non-Null Count  Dtype  \n",
            "---  ------        --------------  -----  \n",
            " 0   VendorNumber  5543 non-null   int64  \n",
            " 1   VendorName    5543 non-null   object \n",
            " 2   InvoiceDate   5543 non-null   object \n",
            " 3   PONumber      5543 non-null   int64  \n",
            " 4   PODate        5543 non-null   object \n",
            " 5   PayDate       5543 non-null   object \n",
            " 6   Quantity      5543 non-null   int64  \n",
            " 7   Dollars       5543 non-null   float64\n",
            " 8   Freight       5543 non-null   float64\n",
            " 9   Approval      374 non-null    object \n",
            "dtypes: float64(2), int64(3), object(5)\n",
            "memory usage: 433.2+ KB\n",
            "None\n",
            "object\n",
            "count           5543\n",
            "unique           373\n",
            "top       2016-07-04\n",
            "freq              43\n",
            "Name: InvoiceDate, dtype: object\n",
            "InvoiceDate\n",
            "2016-07-04    43\n",
            "2016-07-11    35\n",
            "2017-01-03    33\n",
            "2016-08-08    32\n",
            "2016-07-12    31\n",
            "              ..\n",
            "2016-06-25     4\n",
            "2016-11-16     4\n",
            "2016-06-02     4\n",
            "2016-08-10     4\n",
            "2016-04-27     4\n",
            "Name: count, Length: 373, dtype: int64\n"
          ]
        }
      ]
    },
    {
      "cell_type": "code",
      "source": [
        "import pandas as pd\n",
        "\n",
        "# Leer el archivo CSV\n",
        "df = pd.read_csv('/content/drive/MyDrive/Henry - Proyecto Final/DataSet_PF/DataSet_SQL1/purchases_final_modified.csv')\n",
        "\n",
        "# Limpiar la columna PONumber\n",
        "# Convertir a numérico, forzando errores a NaN y luego rellenar con un valor por defecto (por ejemplo, 0)\n",
        "df['PONumber'] = pd.to_numeric(df['PONumber'], errors='coerce').fillna(0).astype(int)\n",
        "\n",
        "# Guardar el DataFrame modificado en una nueva carpeta\n",
        "df.to_csv('/content/drive/MyDrive/Henry - Proyecto Final/DataSet_PF/DataSet_SQL2/purchases_final_modified.csv', index=False)\n"
      ],
      "metadata": {
        "id": "IGa8V8giV40B"
      },
      "execution_count": null,
      "outputs": []
    },
    {
      "cell_type": "code",
      "source": [
        "import pandas as pd\n",
        "\n",
        "# Ruta del archivo CSV\n",
        "file_path = '/content/drive/MyDrive/Henry - Proyecto Final/DataSet_PF/DataSet_SQL1/invoice_purchases_modified.csv'\n",
        "\n",
        "# Cargar el archivo CSV en un DataFrame de pandas\n",
        "df = pd.read_csv(file_path)\n",
        "\n",
        "# Explorar la tabla\n",
        "print(f'Dimensiones de la tabla: {df.shape}')  # Muestra el número de filas y columnas\n",
        "print('\\nPrimeras 5 filas:')\n",
        "print(df.head())  # Muestra las primeras 5 filas\n",
        "print('\\nInformación general:')\n",
        "print(df.info())  # Muestra información general, incluyendo tipos de datos y valores no nulos"
      ],
      "metadata": {
        "colab": {
          "base_uri": "https://localhost:8080/"
        },
        "id": "Ws1XOJeYkgYu",
        "outputId": "2ef43c63-fd78-40bb-c3f1-5b3098231738"
      },
      "execution_count": null,
      "outputs": [
        {
          "output_type": "stream",
          "name": "stdout",
          "text": [
            "Dimensiones de la tabla: (5543, 10)\n",
            "\n",
            "Primeras 5 filas:\n",
            "   VendorNumber                   VendorName InvoiceDate  PONumber  \\\n",
            "0           105  ALTAMAR BRANDS LLC           2016-01-04      8124   \n",
            "1          4466  AMERICAN VINTAGE BEVERAGE    2016-01-07      8137   \n",
            "2           388  ATLANTIC IMPORTING COMPANY   2016-01-09      8169   \n",
            "3           480  BACARDI USA INC              2016-01-12      8106   \n",
            "4           516  BANFI PRODUCTS CORP          2016-01-07      8170   \n",
            "\n",
            "       PODate     PayDate  Quantity    Dollars  Freight Approval  \n",
            "0  2015-12-21  2016-02-16         6     214.26     3.47      NaN  \n",
            "1  2015-12-22  2016-02-21        15     140.55     8.57      NaN  \n",
            "2  2015-12-24  2016-02-16         5     106.60     4.61      NaN  \n",
            "3  2015-12-20  2016-02-05     10100  137483.78  2935.20      NaN  \n",
            "4  2015-12-24  2016-02-12      1935   15527.25   429.20      NaN  \n",
            "\n",
            "Información general:\n",
            "<class 'pandas.core.frame.DataFrame'>\n",
            "RangeIndex: 5543 entries, 0 to 5542\n",
            "Data columns (total 10 columns):\n",
            " #   Column        Non-Null Count  Dtype  \n",
            "---  ------        --------------  -----  \n",
            " 0   VendorNumber  5543 non-null   int64  \n",
            " 1   VendorName    5543 non-null   object \n",
            " 2   InvoiceDate   5543 non-null   object \n",
            " 3   PONumber      5543 non-null   int64  \n",
            " 4   PODate        5543 non-null   object \n",
            " 5   PayDate       5543 non-null   object \n",
            " 6   Quantity      5543 non-null   int64  \n",
            " 7   Dollars       5543 non-null   float64\n",
            " 8   Freight       5543 non-null   float64\n",
            " 9   Approval      374 non-null    object \n",
            "dtypes: float64(2), int64(3), object(5)\n",
            "memory usage: 433.2+ KB\n",
            "None\n"
          ]
        }
      ]
    },
    {
      "cell_type": "code",
      "source": [
        "import pandas as pd\n",
        "import os\n",
        "\n",
        "# Ruta del directorio donde se encuentran los archivos\n",
        "directory = '/content/drive/MyDrive/Henry - Proyecto Final/DataSet_PF/DataSet_SQL1/'\n",
        "\n",
        "# Obtener la lista de archivos en el directorio\n",
        "files = [f for f in os.listdir(directory) if f.endswith('.csv')]\n",
        "\n",
        "# Iterar sobre cada archivo y contar las filas\n",
        "for file in files:\n",
        "    file_path = os.path.join(directory, file)\n",
        "    df = pd.read_csv(file_path)\n",
        "    num_rows = len(df)\n",
        "    print(f'El archivo {file} tiene {num_rows} filas.')"
      ],
      "metadata": {
        "colab": {
          "base_uri": "https://localhost:8080/"
        },
        "id": "p2LscmUnlTdT",
        "outputId": "92aa896b-410b-4488-9217-a9bf2606f225"
      },
      "execution_count": null,
      "outputs": [
        {
          "output_type": "stream",
          "name": "stdout",
          "text": [
            "El archivo sales_final_modified.csv tiene 1048575 filas.\n",
            "El archivo purchases_final_modified.csv tiene 2372474 filas.\n",
            "El archivo purchase_prices_2017_modified.csv tiene 12261 filas.\n",
            "El archivo invoice_purchases_modified.csv tiene 5543 filas.\n",
            "El archivo end_inventory_modified.csv tiene 224489 filas.\n",
            "El archivo big_inventory_modified.csv tiene 206529 filas.\n"
          ]
        }
      ]
    },
    {
      "cell_type": "code",
      "source": [
        "import pandas as pd\n",
        "\n",
        "# Ruta del archivo original y el archivo limpio\n",
        "csv_path = '/content/drive/MyDrive/Henry - Proyecto Final/DataSet_PF/DataSet_SQL1/purchases_final_modified.csv'\n",
        "clean_csv_path = '/content/drive/MyDrive/Henry - Proyecto Final/DataSet_PF/DataSet_SQL2/purchases_final_modified_clean.csv'\n",
        "\n",
        "# Cargar el archivo CSV en un DataFrame\n",
        "df = pd.read_csv(csv_path)\n",
        "\n",
        "# Validar y limpiar las columnas según la estructura de la tabla\n",
        "df['InventoryId'] = df['InventoryId'].astype(str).str.slice(0, 255)\n",
        "df['Store'] = pd.to_numeric(df['Store'], errors='coerce', downcast='integer').fillna(0).astype(int)\n",
        "df['Brand'] = pd.to_numeric(df['Brand'], errors='coerce', downcast='integer').fillna(0).astype(int)\n",
        "df['Description'] = df['Description'].astype(str).str.slice(0, 255)\n",
        "df['Size'] = df['Size'].astype(str).str.slice(0, 50)\n",
        "df['VendorNumber'] = pd.to_numeric(df['VendorNumber'], errors='coerce', downcast='integer').fillna(0).astype(int)\n",
        "df['VendorName'] = df['VendorName'].astype(str).str.slice(0, 255)\n",
        "df['PONumber'] = df['PONumber'].astype(str).str.slice(0, 100)\n",
        "df['PODate'] = pd.to_datetime(df['PODate'], errors='coerce')\n",
        "df['ReceivingDate'] = pd.to_datetime(df['ReceivingDate'], errors='coerce')\n",
        "df['InvoiceDate'] = pd.to_datetime(df['InvoiceDate'], errors='coerce')\n",
        "df['PayDate'] = pd.to_datetime(df['PayDate'], errors='coerce')\n",
        "df['PurchasePrice'] = pd.to_numeric(df['PurchasePrice'], errors='coerce').fillna(0)\n",
        "df['Quantity'] = pd.to_numeric(df['Quantity'], errors='coerce', downcast='integer').fillna(0).astype(int)\n",
        "df['Dollars'] = pd.to_numeric(df['Dollars'], errors='coerce').fillna(0)\n",
        "df['Classification'] = pd.to_numeric(df['Classification'], errors='coerce', downcast='integer').fillna(0).astype(int)\n",
        "\n",
        "# Reemplazar valores nulos en columnas obligatorias\n",
        "df.fillna({\n",
        "    'PODate': '1900-01-01',\n",
        "    'ReceivingDate': '1900-01-01',\n",
        "    'InvoiceDate': '1900-01-01',\n",
        "    'PayDate': '1900-01-01'\n",
        "}, inplace=True)\n",
        "\n",
        "# Guardar el archivo limpio\n",
        "df.to_csv(clean_csv_path, index=False)\n",
        "\n",
        "print(f\"Archivo limpio guardado en: {clean_csv_path}\")\n"
      ],
      "metadata": {
        "colab": {
          "base_uri": "https://localhost:8080/"
        },
        "id": "OHDOMEgLmuw5",
        "outputId": "805748c5-4b7e-4318-870b-de72bf932b6d"
      },
      "execution_count": null,
      "outputs": [
        {
          "output_type": "stream",
          "name": "stdout",
          "text": [
            "Archivo limpio guardado en: /content/drive/MyDrive/Henry - Proyecto Final/DataSet_PF/DataSet_SQL2/purchases_final_modified_clean.csv\n"
          ]
        }
      ]
    },
    {
      "cell_type": "code",
      "source": [
        "import pandas as pd\n",
        "\n",
        "# Ruta del archivo CSV\n",
        "file_path = '/content/drive/MyDrive/Henry - Proyecto Final/DataSet_PF/DataSet_SQL1/purchases_final_modified.csv'  # Ajusta la ruta si es necesario\n",
        "\n",
        "# Cargar el archivo CSV en un DataFrame de pandas\n",
        "df = pd.read_csv(file_path)\n",
        "\n",
        "# Explorar la tabla\n",
        "print(f'Dimensiones de la tabla: {df.shape}')  # Muestra el número de filas y columnas\n",
        "print('\\nPrimeras 5 filas:')\n",
        "print(df.head())  # Muestra las primeras 5 filas\n",
        "print('\\nInformación general:')\n",
        "print(df.info())  # Muestra información general, incluyendo tipos de datos y valores no nulos\n"
      ],
      "metadata": {
        "colab": {
          "base_uri": "https://localhost:8080/"
        },
        "id": "boNmSuhrvO2l",
        "outputId": "e8cd021c-a70f-424b-8f9a-9028afd33665"
      },
      "execution_count": null,
      "outputs": [
        {
          "output_type": "stream",
          "name": "stdout",
          "text": [
            "Dimensiones de la tabla: (2372474, 16)\n",
            "\n",
            "Primeras 5 filas:\n",
            "           InventoryId  Store  Brand                   Description   Size  \\\n",
            "0    69_MOUNTMEND_8412     69   8412     Tequila Ocho Plata Fresno  750mL   \n",
            "1     30_CULCHETH_5255     30   5255  TGI Fridays Ultimte Mudslide  1.75L   \n",
            "2    34_PITMERDEN_5215     34   5215  TGI Fridays Long Island Iced  1.75L   \n",
            "3  1_HARDERSFIELD_5255      1   5255  TGI Fridays Ultimte Mudslide  1.75L   \n",
            "4    76_DONCASTER_2034     76   2034     Glendalough Double Barrel  750mL   \n",
            "\n",
            "   VendorNumber                   VendorName  PONumber      PODate  \\\n",
            "0           105  ALTAMAR BRANDS LLC               8124  2015-12-21   \n",
            "1          4466  AMERICAN VINTAGE BEVERAGE        8137  2015-12-22   \n",
            "2          4466  AMERICAN VINTAGE BEVERAGE        8137  2015-12-22   \n",
            "3          4466  AMERICAN VINTAGE BEVERAGE        8137  2015-12-22   \n",
            "4           388  ATLANTIC IMPORTING COMPANY       8169  2015-12-24   \n",
            "\n",
            "  ReceivingDate InvoiceDate     PayDate  PurchasePrice  Quantity  Dollars  \\\n",
            "0    2016-01-02  2016-01-04  2016-02-16          35.71         6   214.26   \n",
            "1    2016-01-01  2016-01-07  2016-02-21           9.35         4    37.40   \n",
            "2    2016-01-02  2016-01-07  2016-02-21           9.41         5    47.05   \n",
            "3    2016-01-01  2016-01-07  2016-02-21           9.35         6    56.10   \n",
            "4    2016-01-02  2016-01-09  2016-02-16          21.32         5   106.60   \n",
            "\n",
            "   Classification  \n",
            "0               1  \n",
            "1               1  \n",
            "2               1  \n",
            "3               1  \n",
            "4               1  \n",
            "\n",
            "Información general:\n",
            "<class 'pandas.core.frame.DataFrame'>\n",
            "RangeIndex: 2372474 entries, 0 to 2372473\n",
            "Data columns (total 16 columns):\n",
            " #   Column          Dtype  \n",
            "---  ------          -----  \n",
            " 0   InventoryId     object \n",
            " 1   Store           int64  \n",
            " 2   Brand           int64  \n",
            " 3   Description     object \n",
            " 4   Size            object \n",
            " 5   VendorNumber    int64  \n",
            " 6   VendorName      object \n",
            " 7   PONumber        int64  \n",
            " 8   PODate          object \n",
            " 9   ReceivingDate   object \n",
            " 10  InvoiceDate     object \n",
            " 11  PayDate         object \n",
            " 12  PurchasePrice   float64\n",
            " 13  Quantity        int64  \n",
            " 14  Dollars         float64\n",
            " 15  Classification  int64  \n",
            "dtypes: float64(2), int64(6), object(8)\n",
            "memory usage: 289.6+ MB\n",
            "None\n"
          ]
        }
      ]
    },
    {
      "cell_type": "code",
      "source": [
        "import pandas as pd\n",
        "\n",
        "# Ruta del archivo limpio existente\n",
        "csv_path = '/content/drive/MyDrive/Henry - Proyecto Final/DataSet_PF/DataSet_SQL2/purchases_final_modified_clean.csv'\n",
        "\n",
        "# Cargar el archivo para revisión\n",
        "df = pd.read_csv(csv_path)\n",
        "\n",
        "# Validar que los datos de Classification sean enteros\n",
        "df['Classification'] = pd.to_numeric(df['Classification'], errors='coerce').fillna(0).astype(int)\n",
        "\n",
        "# Confirmar que no hay celdas vacías\n",
        "df.fillna('', inplace=True)\n",
        "\n",
        "# Guardar el archivo con delimitadores correctos y sin valores erróneos\n",
        "clean_csv_path_final = '/content/drive/MyDrive/Henry - Proyecto Final/DataSet_PF/DataSet_SQL2/purchases_final_modified_clean_final.csv'\n",
        "df.to_csv(clean_csv_path_final, index=False, sep=',', encoding='utf-8')\n",
        "\n",
        "print(f\"Archivo limpio guardado en: {clean_csv_path_final}\")\n"
      ],
      "metadata": {
        "colab": {
          "base_uri": "https://localhost:8080/"
        },
        "id": "gVisY8zd1HdU",
        "outputId": "bba07c83-1700-431d-d961-c6c9b5fc64e5"
      },
      "execution_count": null,
      "outputs": [
        {
          "output_type": "stream",
          "name": "stdout",
          "text": [
            "Archivo limpio guardado en: /content/drive/MyDrive/Henry - Proyecto Final/DataSet_PF/DataSet_SQL2/purchases_final_modified_clean_final.csv\n"
          ]
        }
      ]
    },
    {
      "cell_type": "code",
      "source": [
        "import pandas as pd\n",
        "\n",
        "# Cargar el archivo CSV\n",
        "csv_path = '/content/drive/MyDrive/Henry - Proyecto Final/DataSet_PF/DataSet_SQL2/purchases_final_modified_clean_final.csv'\n",
        "df = pd.read_csv(csv_path)\n",
        "\n",
        "# Definir las longitudes máximas permitidas para cada columna\n",
        "max_lengths = {\n",
        "    'InventoryId': 255,\n",
        "    'Description': 255,\n",
        "    'Size': 50,\n",
        "    'VendorName': 255,\n",
        "    'PONumber': 100\n",
        "}\n",
        "\n",
        "# Validar que las columnas sean strings antes de aplicar .str.len()\n",
        "for col, max_len in max_lengths.items():\n",
        "    # Convertir a string si no lo es\n",
        "    df[col] = df[col].astype(str)\n",
        "    # Filtrar filas que cumplen con la longitud máxima\n",
        "    df = df[df[col].str.len() <= max_len]\n",
        "\n",
        "# Guardar el archivo limpio\n",
        "clean_csv_path_final = '/content/drive/MyDrive/Henry - Proyecto Final/DataSet_PF/DataSet_SQL2/purchases_final_modified_clean_final.csv'\n",
        "df.to_csv(clean_csv_path_final, index=False, sep=',', encoding='utf-8')\n",
        "\n",
        "print(f\"Archivo limpio guardado en: {clean_csv_path_final}\")\n"
      ],
      "metadata": {
        "colab": {
          "base_uri": "https://localhost:8080/"
        },
        "id": "R6iZ6SJW8jig",
        "outputId": "d84bd1d0-b055-46bf-f4dc-2c6cfc4d0e61"
      },
      "execution_count": null,
      "outputs": [
        {
          "output_type": "stream",
          "name": "stdout",
          "text": [
            "Archivo limpio guardado en: /content/drive/MyDrive/Henry - Proyecto Final/DataSet_PF/DataSet_SQL2/purchases_final_modified_clean_final.csv\n"
          ]
        }
      ]
    },
    {
      "cell_type": "code",
      "source": [
        "import pandas as pd\n",
        "\n",
        "# Ruta del archivo CSV\n",
        "file_path = '/content/drive/MyDrive/Henry - Proyecto Final/DataSet_PF/DataSet_SQL1/purchases_final_modified.csv'  # Ajusta la ruta si es necesario\n",
        "\n",
        "# Cargar el archivo CSV en un DataFrame de pandas\n",
        "df = pd.read_csv(file_path)\n",
        "\n",
        "# Acceder a la fila 1 utilizando iloc (basado en índice)\n",
        "fila_1 = df.iloc[0]\n",
        "\n",
        "# Imprimir la fila 1\n",
        "print(fila_1)"
      ],
      "metadata": {
        "colab": {
          "base_uri": "https://localhost:8080/"
        },
        "id": "ApN3AGDt86N5",
        "outputId": "b5a7adb3-3ae2-471f-8b53-6c9515841e4b"
      },
      "execution_count": null,
      "outputs": [
        {
          "output_type": "stream",
          "name": "stdout",
          "text": [
            "InventoryId                 69_MOUNTMEND_8412\n",
            "Store                                      69\n",
            "Brand                                    8412\n",
            "Description         Tequila Ocho Plata Fresno\n",
            "Size                                    750mL\n",
            "VendorNumber                              105\n",
            "VendorName        ALTAMAR BRANDS LLC         \n",
            "PONumber                                 8124\n",
            "PODate                             2015-12-21\n",
            "ReceivingDate                      2016-01-02\n",
            "InvoiceDate                        2016-01-04\n",
            "PayDate                            2016-02-16\n",
            "PurchasePrice                           35.71\n",
            "Quantity                                    6\n",
            "Dollars                                214.26\n",
            "Classification                              1\n",
            "Name: 0, dtype: object\n"
          ]
        }
      ]
    },
    {
      "cell_type": "code",
      "source": [
        "import pandas as pd\n",
        "\n",
        "# Ruta del archivo CSV\n",
        "file_path = '/content/drive/MyDrive/Henry - Proyecto Final/DataSet_PF/DataSet_SQL1/purchases_final_modified.csv'\n",
        "\n",
        "# Cargar el archivo CSV en un DataFrame de pandas\n",
        "df = pd.read_csv(file_path)\n",
        "\n",
        "# Eliminar la primera fila (índice 0)\n",
        "df = df.drop(index=0)\n",
        "\n",
        "# Guardar el DataFrame modificado en un nuevo archivo CSV\n",
        "df.to_csv('/content/drive/MyDrive/Henry - Proyecto Final/DataSet_PF/DataSet_SQL1/purchases_final_modified_sin_fila1.csv', index=False)\n",
        "\n",
        "print(\"Fila 1 eliminada y archivo guardado como 'purchases_final_modified_sin_fila1.csv'\")"
      ],
      "metadata": {
        "colab": {
          "base_uri": "https://localhost:8080/"
        },
        "id": "MKMPdei9C-ZZ",
        "outputId": "af488c7b-0e69-4b05-c77e-c85bd4aecf92"
      },
      "execution_count": null,
      "outputs": [
        {
          "output_type": "stream",
          "name": "stdout",
          "text": [
            "Fila 1 eliminada y archivo guardado como 'purchases_final_modified_sin_fila1.csv'\n"
          ]
        }
      ]
    },
    {
      "cell_type": "code",
      "source": [
        "import pandas as pd\n",
        "\n",
        "# Ruta del archivo modificado\n",
        "file_path = '/content/drive/MyDrive/Henry - Proyecto Final/DataSet_PF/DataSet_SQL1/purchases_final_modified_sin_fila1.csv'\n",
        "\n",
        "# Cargar el archivo modificado en un DataFrame\n",
        "df = pd.read_csv(file_path)\n",
        "\n",
        "# Verificar el número de filas\n",
        "num_rows = len(df)\n",
        "print(f\"La tabla 'purchases_final_modified_sin_fila1.csv' tiene {num_rows} filas.\")\n",
        "\n",
        "# Mostrar las primeras filas para inspección visual\n",
        "print(df.head())"
      ],
      "metadata": {
        "colab": {
          "base_uri": "https://localhost:8080/"
        },
        "id": "wkem9NU9FI5P",
        "outputId": "3c9ed6b7-94f9-462c-f60c-e0aab77abb0f"
      },
      "execution_count": null,
      "outputs": [
        {
          "output_type": "stream",
          "name": "stdout",
          "text": [
            "La tabla 'purchases_final_modified_sin_fila1.csv' tiene 2372473 filas.\n",
            "           InventoryId  Store  Brand                   Description   Size  \\\n",
            "0     30_CULCHETH_5255     30   5255  TGI Fridays Ultimte Mudslide  1.75L   \n",
            "1    34_PITMERDEN_5215     34   5215  TGI Fridays Long Island Iced  1.75L   \n",
            "2  1_HARDERSFIELD_5255      1   5255  TGI Fridays Ultimte Mudslide  1.75L   \n",
            "3    76_DONCASTER_2034     76   2034     Glendalough Double Barrel  750mL   \n",
            "4        5_SUTTON_3348      5   3348           Bombay Sapphire Gin  1.75L   \n",
            "\n",
            "   VendorNumber                   VendorName  PONumber      PODate  \\\n",
            "0          4466  AMERICAN VINTAGE BEVERAGE        8137  2015-12-22   \n",
            "1          4466  AMERICAN VINTAGE BEVERAGE        8137  2015-12-22   \n",
            "2          4466  AMERICAN VINTAGE BEVERAGE        8137  2015-12-22   \n",
            "3           388  ATLANTIC IMPORTING COMPANY       8169  2015-12-24   \n",
            "4           480  BACARDI USA INC                  8106  2015-12-20   \n",
            "\n",
            "  ReceivingDate InvoiceDate     PayDate  PurchasePrice  Quantity  Dollars  \\\n",
            "0    2016-01-01  2016-01-07  2016-02-21           9.35         4    37.40   \n",
            "1    2016-01-02  2016-01-07  2016-02-21           9.41         5    47.05   \n",
            "2    2016-01-01  2016-01-07  2016-02-21           9.35         6    56.10   \n",
            "3    2016-01-02  2016-01-09  2016-02-16          21.32         5   106.60   \n",
            "4    2016-01-02  2016-01-12  2016-02-05          22.38         6   134.28   \n",
            "\n",
            "   Classification  \n",
            "0               1  \n",
            "1               1  \n",
            "2               1  \n",
            "3               1  \n",
            "4               1  \n"
          ]
        }
      ]
    },
    {
      "cell_type": "code",
      "source": [
        "import pandas as pd\n",
        "\n",
        "# Ruta del archivo CSV\n",
        "file_path = '/content/drive/MyDrive/Henry - Proyecto Final/DataSet_PF/DataSet_SQL1/purchases_final_modified.csv'\n",
        "\n",
        "# Cargar el archivo CSV en un DataFrame de pandas\n",
        "df = pd.read_csv(file_path)\n",
        "\n",
        "# Convertir la columna 'Classification' a tipo string\n",
        "df['Classification'] = df['Classification'].astype(str)\n",
        "\n",
        "# Limpiar la columna 'Classification'\n",
        "df['Classification'] = df['Classification'].str.strip()  # Eliminar espacios en blanco al inicio y al final\n",
        "df['Classification'] = df['Classification'].fillna(0)  # Reemplazar valores nulos con 0\n",
        "\n",
        "\n",
        "# Guardar el DataFrame modificado en un nuevo archivo CSV\n",
        "df.to_csv('/content/drive/MyDrive/Henry - Proyecto Final/DataSet_PF/DataSet_SQL1/purchases_final_modified_clean.csv', index=False)\n",
        "\n",
        "print(\"Columna 'Classification' limpiada y archivo guardado como 'purchases_final_modified_clean.csv'\")"
      ],
      "metadata": {
        "colab": {
          "base_uri": "https://localhost:8080/"
        },
        "id": "aiIDl1DOP_cd",
        "outputId": "ccaee46e-bdd5-4928-a565-fa0306371e0b"
      },
      "execution_count": null,
      "outputs": [
        {
          "output_type": "stream",
          "name": "stdout",
          "text": [
            "Columna 'Classification' limpiada y archivo guardado como 'purchases_final_modified_clean.csv'\n"
          ]
        }
      ]
    },
    {
      "cell_type": "code",
      "source": [
        "import pandas as pd\n",
        "\n",
        "# Ruta del archivo CSV\n",
        "file_path = '/content/drive/MyDrive/Henry - Proyecto Final/DataSet_PF/DataSet_SQL1/purchases_final_modified_clean.csv'\n",
        "\n",
        "# Cargar el archivo CSV en un DataFrame de pandas\n",
        "df = pd.read_csv(file_path)\n",
        "\n",
        "# Obtener el número de filas\n",
        "num_rows = df.shape[0]\n",
        "\n",
        "# Obtener el número de columnas\n",
        "num_cols = df.shape[1]\n",
        "\n",
        "# Obtener los nombres de las columnas\n",
        "column_names = df.columns.tolist()\n",
        "\n",
        "# Obtener los tipos de datos de cada columna\n",
        "data_types = df.dtypes\n",
        "\n",
        "# Imprimir la información\n",
        "print(f\"Número de filas: {num_rows}\")\n",
        "print(f\"Número de columnas: {num_cols}\")\n",
        "print(\"Columnas:\", column_names)\n",
        "print(\"Tipos de datos:\\n\", data_types)"
      ],
      "metadata": {
        "colab": {
          "base_uri": "https://localhost:8080/"
        },
        "id": "K0o84mjEQV3y",
        "outputId": "c0622733-e5a3-496d-acbd-81bbe2bdc4dd"
      },
      "execution_count": null,
      "outputs": [
        {
          "output_type": "stream",
          "name": "stdout",
          "text": [
            "Número de filas: 2372474\n",
            "Número de columnas: 16\n",
            "Columnas: ['InventoryId', 'Store', 'Brand', 'Description', 'Size', 'VendorNumber', 'VendorName', 'PONumber', 'PODate', 'ReceivingDate', 'InvoiceDate', 'PayDate', 'PurchasePrice', 'Quantity', 'Dollars', 'Classification']\n",
            "Tipos de datos:\n",
            " InventoryId        object\n",
            "Store               int64\n",
            "Brand               int64\n",
            "Description        object\n",
            "Size               object\n",
            "VendorNumber        int64\n",
            "VendorName         object\n",
            "PONumber            int64\n",
            "PODate             object\n",
            "ReceivingDate      object\n",
            "InvoiceDate        object\n",
            "PayDate            object\n",
            "PurchasePrice     float64\n",
            "Quantity            int64\n",
            "Dollars           float64\n",
            "Classification      int64\n",
            "dtype: object\n"
          ]
        }
      ]
    },
    {
      "cell_type": "code",
      "source": [
        "import pandas as pd\n",
        "\n",
        "# Ruta del archivo CSV\n",
        "file_path = '/content/drive/MyDrive/Henry - Proyecto Final/DataSet_PF/DataSet_SQL1/purchases_final_modified_clean.csv'\n",
        "\n",
        "# Cargar el archivo CSV en un DataFrame de pandas\n",
        "df = pd.read_csv(file_path)\n",
        "\n",
        "# Convertir la columna 'Classification' a tipo string\n",
        "df['Classification'] = df['Classification'].astype(str)\n",
        "\n",
        "# Obtener el número de filas\n",
        "num_rows = df.shape[0]\n",
        "\n",
        "# Obtener el número de columnas\n",
        "num_cols = df.shape[1]\n",
        "\n",
        "# Obtener los nombres de las columnas\n",
        "column_names = df.columns.tolist()\n",
        "\n",
        "# Obtener los tipos de datos de cada columna\n",
        "data_types = df.dtypes\n",
        "\n",
        "# Imprimir la información\n",
        "print(f\"Número de filas: {num_rows}\")\n",
        "print(f\"Número de columnas: {num_cols}\")\n",
        "print(\"Columnas:\", column_names)\n",
        "print(\"Tipos de datos:\\n\", data_types)"
      ],
      "metadata": {
        "colab": {
          "base_uri": "https://localhost:8080/"
        },
        "id": "BT9zZdtFSbPF",
        "outputId": "7b8d9e9c-afb0-4619-89fb-95a5351f5eb9"
      },
      "execution_count": null,
      "outputs": [
        {
          "output_type": "stream",
          "name": "stdout",
          "text": [
            "Número de filas: 2372474\n",
            "Número de columnas: 16\n",
            "Columnas: ['InventoryId', 'Store', 'Brand', 'Description', 'Size', 'VendorNumber', 'VendorName', 'PONumber', 'PODate', 'ReceivingDate', 'InvoiceDate', 'PayDate', 'PurchasePrice', 'Quantity', 'Dollars', 'Classification']\n",
            "Tipos de datos:\n",
            " InventoryId        object\n",
            "Store               int64\n",
            "Brand               int64\n",
            "Description        object\n",
            "Size               object\n",
            "VendorNumber        int64\n",
            "VendorName         object\n",
            "PONumber            int64\n",
            "PODate             object\n",
            "ReceivingDate      object\n",
            "InvoiceDate        object\n",
            "PayDate            object\n",
            "PurchasePrice     float64\n",
            "Quantity            int64\n",
            "Dollars           float64\n",
            "Classification     object\n",
            "dtype: object\n"
          ]
        }
      ]
    },
    {
      "cell_type": "code",
      "source": [
        "import pandas as pd\n",
        "\n",
        "# Ruta del archivo CSV\n",
        "file_path = '/content/drive/MyDrive/Henry - Proyecto Final/DataSet_PF/DataSet_SQL1/purchases_final_modified_clean.csv'\n",
        "\n",
        "# Cargar el archivo CSV en un DataFrame de pandas\n",
        "df = pd.read_csv(file_path)\n",
        "\n",
        "# Convertir la columna 'Classification' a tipo numérico\n",
        "df['Classification'] = pd.to_numeric(df['Classification'], errors='coerce')\n",
        "\n",
        "# Calcular la mediana y la media\n",
        "median_classification = df['Classification'].median()\n",
        "mean_classification = df['Classification'].mean()\n",
        "\n",
        "# Imprimir los resultados\n",
        "print(f\"Mediana de Classification: {median_classification}\")\n",
        "print(f\"Media de Classification: {mean_classification}\")\n",
        "\n",
        "# Volver a convertir la columna 'Classification' a tipo string\n",
        "df['Classification'] = df['Classification'].astype(str)\n",
        "\n",
        "# Guardar el DataFrame modificado en un nuevo archivo CSV (opcional)\n",
        "# df.to_csv('/content/drive/MyDrive/Henry - Proyecto Final/DataSet_PF/DataSet_SQL1/purchases_final_modified_con_mediana_media.csv', index=False)"
      ],
      "metadata": {
        "colab": {
          "base_uri": "https://localhost:8080/"
        },
        "id": "dlpS-E6rSkwr",
        "outputId": "fa2831bc-2b09-4ec8-c3c3-34eee70b775a"
      },
      "execution_count": null,
      "outputs": [
        {
          "output_type": "stream",
          "name": "stdout",
          "text": [
            "Mediana de Classification: 1.0\n",
            "Media de Classification: 1.4435201397359887\n"
          ]
        }
      ]
    },
    {
      "cell_type": "code",
      "source": [
        "import pandas as pd\n",
        "\n",
        "# Ruta del archivo CSV\n",
        "file_path = '/content/drive/MyDrive/Henry - Proyecto Final/DataSet_PF/DataSet_SQL1/purchases_final_modified_clean.csv'\n",
        "\n",
        "# Cargar el archivo CSV en un DataFrame de pandas\n",
        "df = pd.read_csv(file_path)\n",
        "\n",
        "# Eliminar la columna 'Classification'\n",
        "df = df.drop('Classification', axis=1)\n",
        "\n",
        "# Guardar el DataFrame modificado en un nuevo archivo CSV\n",
        "df.to_csv('/content/drive/MyDrive/Henry - Proyecto Final/DataSet_PF/DataSet_SQL1/purchases_final_modified_clean_sin_classification.csv', index=False)\n",
        "\n",
        "print(\"Columna 'Classification' eliminada y archivo guardado como 'purchases_final_modified_clean_sin_classification.csv'\")"
      ],
      "metadata": {
        "colab": {
          "base_uri": "https://localhost:8080/"
        },
        "id": "4L6RU9KyaXTV",
        "outputId": "2a742e4e-a3ef-4d01-d6f9-c29cff91524e"
      },
      "execution_count": null,
      "outputs": [
        {
          "output_type": "stream",
          "name": "stdout",
          "text": [
            "Columna 'Classification' eliminada y archivo guardado como 'purchases_final_modified_clean_sin_classification.csv'\n"
          ]
        }
      ]
    },
    {
      "cell_type": "code",
      "source": [
        "import pandas as pd\n",
        "\n",
        "# Ruta del archivo CSV\n",
        "file_path = '/content/drive/MyDrive/Henry - Proyecto Final/DataSet_PF/DataSet_SQL1/purchases_final_modified_clean_sin_classification.csv'\n",
        "\n",
        "# Cargar el archivo CSV en un DataFrame de pandas\n",
        "df = pd.read_csv(file_path)\n",
        "\n",
        "# Obtener el número de filas\n",
        "num_rows = df.shape[0]\n",
        "\n",
        "# Obtener el número de columnas\n",
        "num_cols = df.shape[1]\n",
        "\n",
        "# Obtener los nombres de las columnas\n",
        "column_names = df.columns.tolist()\n",
        "\n",
        "# Obtener los tipos de datos de cada columna\n",
        "data_types = df.dtypes\n",
        "\n",
        "# Imprimir la información\n",
        "print(f\"Número de filas: {num_rows}\")\n",
        "print(f\"Número de columnas: {num_cols}\")\n",
        "print(\"Columnas:\", column_names)\n",
        "print(\"Tipos de datos:\\n\", data_types)"
      ],
      "metadata": {
        "colab": {
          "base_uri": "https://localhost:8080/"
        },
        "id": "ttQtMU1oaoNN",
        "outputId": "a838aad4-e415-436d-a8f7-a046114855da"
      },
      "execution_count": null,
      "outputs": [
        {
          "output_type": "stream",
          "name": "stdout",
          "text": [
            "Número de filas: 2372474\n",
            "Número de columnas: 15\n",
            "Columnas: ['InventoryId', 'Store', 'Brand', 'Description', 'Size', 'VendorNumber', 'VendorName', 'PONumber', 'PODate', 'ReceivingDate', 'InvoiceDate', 'PayDate', 'PurchasePrice', 'Quantity', 'Dollars']\n",
            "Tipos de datos:\n",
            " InventoryId       object\n",
            "Store              int64\n",
            "Brand              int64\n",
            "Description       object\n",
            "Size              object\n",
            "VendorNumber       int64\n",
            "VendorName        object\n",
            "PONumber           int64\n",
            "PODate            object\n",
            "ReceivingDate     object\n",
            "InvoiceDate       object\n",
            "PayDate           object\n",
            "PurchasePrice    float64\n",
            "Quantity           int64\n",
            "Dollars          float64\n",
            "dtype: object\n"
          ]
        }
      ]
    },
    {
      "cell_type": "code",
      "source": [
        "import csv\n",
        "\n",
        "def clean_csv(file_path, output_path):\n",
        "    with open(file_path, mode='r', encoding='utf-8') as infile, open(output_path, mode='w', encoding='utf-8', newline='') as outfile:\n",
        "        reader = csv.reader(infile, delimiter=',')\n",
        "        writer = csv.writer(outfile, delimiter=',')\n",
        "\n",
        "        for row in reader:\n",
        "            row = [field.replace(',', ' ') if field else field for field in row]  # Reemplazar comas con espacio\n",
        "            writer.writerow(row)\n",
        "\n",
        "input_file_path = '/content/drive/MyDrive/Henry - Proyecto Final/DataSet_PF/DataSet_SQL1/purchases_final_modified_clean_sin_classification.csv'\n",
        "output_file_path = '/content/drive/MyDrive/Henry - Proyecto Final/DataSet_PF/DataSet_SQL1/purchases_final_modified_clean_sin_classification_cleaned.csv'\n",
        "clean_csv(input_file_path, output_file_path)\n"
      ],
      "metadata": {
        "id": "OaE5A4c_now7"
      },
      "execution_count": null,
      "outputs": []
    },
    {
      "cell_type": "code",
      "source": [
        "import csv\n",
        "\n",
        "def check_dollars_column(file_path):\n",
        "    with open(file_path, mode='r', encoding='utf-8') as file:\n",
        "        reader = csv.reader(file, delimiter=',')\n",
        "        row_number = 1\n",
        "\n",
        "        for row in reader:\n",
        "            if row_number > 1:  # Saltar la fila de encabezado\n",
        "                dollars_value = row[14]  # Columna 15 en índice 0\n",
        "                try:\n",
        "                    dollars_float = float(dollars_value)\n",
        "                except ValueError:\n",
        "                    print(f\"Invalid value at Row {row_number}: {dollars_value}\")\n",
        "\n",
        "                # Verificar si el valor tiene más de 18 dígitos en total\n",
        "                if len(str(dollars_float).replace('.', '').replace('-', '')) > 18:\n",
        "                    print(f\"Value too long at Row {row_number}: {dollars_value}\")\n",
        "\n",
        "                # Verificar si hay más de 2 decimales\n",
        "                if '.' in dollars_value and len(dollars_value.split('.')[1]) > 2:\n",
        "                    print(f\"Too many decimals at Row {row_number}: {dollars_value}\")\n",
        "\n",
        "            row_number += 1\n",
        "\n",
        "file_path = '/content/drive/MyDrive/Henry - Proyecto Final/DataSet_PF/DataSet_SQL1/purchases_final_modified_clean_sin_classification.csv'\n",
        "check_dollars_column(file_path)\n"
      ],
      "metadata": {
        "id": "rtGFokq7o2Ad"
      },
      "execution_count": null,
      "outputs": []
    },
    {
      "cell_type": "code",
      "source": [
        "import csv\n",
        "\n",
        "def check_csv_delimiters(file_path):\n",
        "    with open(file_path, mode='r', encoding='utf-8') as file:\n",
        "        reader = csv.reader(file, delimiter=',')\n",
        "        row_number = 0\n",
        "\n",
        "        for row in reader:\n",
        "            if row_number == 1:  # Verifica la primera fila de datos\n",
        "                print(f\"First data row: {row}\")\n",
        "                print(f\"Number of columns: {len(row)}\")\n",
        "                break\n",
        "            row_number += 1\n",
        "\n",
        "file_path = '/content/drive/MyDrive/Henry - Proyecto Final/DataSet_PF/DataSet_SQL1/purchases_final_modified_clean_sin_classification.csv'\n",
        "check_csv_delimiters(file_path)\n"
      ],
      "metadata": {
        "colab": {
          "base_uri": "https://localhost:8080/"
        },
        "id": "0qlR9Soa8uA_",
        "outputId": "ea34e6f8-2cad-441a-b96d-e34db0ab303e"
      },
      "execution_count": null,
      "outputs": [
        {
          "output_type": "stream",
          "name": "stdout",
          "text": [
            "First data row: ['69_MOUNTMEND_8412', '69', '8412', 'Tequila Ocho Plata Fresno', '750mL', '105', 'ALTAMAR BRANDS LLC         ', '8124', '2015-12-21', '2016-01-02', '2016-01-04', '2016-02-16', '35.71', '6', '214.26']\n",
            "Number of columns: 15\n"
          ]
        }
      ]
    },
    {
      "cell_type": "code",
      "source": [
        "import pandas as pd\n",
        "\n",
        "def explore_dollars_column(file_path):\n",
        "    # Leer el archivo CSV en un DataFrame de pandas\n",
        "    df = pd.read_csv(file_path, delimiter=',')\n",
        "\n",
        "    # Explorar la columna 'Dollars'\n",
        "    dollars_data = df['Dollars']\n",
        "\n",
        "    # Estadísticas descriptivas\n",
        "    stats = dollars_data.describe()\n",
        "    print(\"Estadísticas descriptivas de la columna 'Dollars':\")\n",
        "    print(stats)\n",
        "\n",
        "    # Valores únicos\n",
        "    unique_values = dollars_data.unique()\n",
        "    print(\"\\nValores únicos en la columna 'Dollars':\")\n",
        "    print(unique_values)\n",
        "\n",
        "    # Valores nulos\n",
        "    null_values = dollars_data.isnull().sum()\n",
        "    print(f\"\\nNúmero de valores nulos en la columna 'Dollars': {null_values}\")\n",
        "\n",
        "    # Valores atípicos (outliers) utilizando el rango intercuartílico (IQR)\n",
        "    Q1 = dollars_data.quantile(0.25)\n",
        "    Q3 = dollars_data.quantile(0.75)\n",
        "    IQR = Q3 - Q1\n",
        "    lower_bound = Q1 - 1.5 * IQR\n",
        "    upper_bound = Q3 + 1.5 * IQR\n",
        "    outliers = dollars_data[(dollars_data < lower_bound) | (dollars_data > upper_bound)]\n",
        "    print(f\"\\nValores atípicos en la columna 'Dollars':\")\n",
        "    print(outliers)\n",
        "\n",
        "file_path = '/content/drive/MyDrive/Henry - Proyecto Final/DataSet_PF/DataSet_SQL1/purchases_final_modified_clean_sin_classification.csv'\n",
        "explore_dollars_column(file_path)\n"
      ],
      "metadata": {
        "colab": {
          "base_uri": "https://localhost:8080/"
        },
        "id": "w-2JDVaX9Ms6",
        "outputId": "195fc615-3868-417c-d2e0-cc3fe2730791"
      },
      "execution_count": null,
      "outputs": [
        {
          "output_type": "stream",
          "name": "stdout",
          "text": [
            "Estadísticas descriptivas de la columna 'Dollars':\n",
            "count    2.372474e+06\n",
            "mean     1.356815e+02\n",
            "std      2.816649e+02\n",
            "min      0.000000e+00\n",
            "25%      4.926000e+01\n",
            "50%      8.393000e+01\n",
            "75%      1.405200e+02\n",
            "max      5.017570e+04\n",
            "Name: Dollars, dtype: float64\n",
            "\n",
            "Valores únicos en la columna 'Dollars':\n",
            "[214.26  37.4   47.05 ... 466.14 418.6  464.6 ]\n",
            "\n",
            "Número de valores nulos en la columna 'Dollars': 0\n",
            "\n",
            "Valores atípicos en la columna 'Dollars':\n",
            "11          281.16\n",
            "17          510.65\n",
            "19          340.02\n",
            "26         4389.19\n",
            "28          959.58\n",
            "            ...   \n",
            "2372340     326.88\n",
            "2372347     326.40\n",
            "2372384     354.24\n",
            "2372387     464.60\n",
            "2372404     635.60\n",
            "Name: Dollars, Length: 191797, dtype: float64\n"
          ]
        }
      ]
    },
    {
      "cell_type": "code",
      "source": [
        "import pandas as pd\n",
        "\n",
        "def clean_dollars_column(file_path, output_path):\n",
        "    df = pd.read_csv(file_path, delimiter=',')\n",
        "\n",
        "    # Definir límites para valores atípicos\n",
        "    Q1 = df['Dollars'].quantile(0.25)\n",
        "    Q3 = df['Dollars'].quantile(0.75)\n",
        "    IQR = Q3 - Q1\n",
        "    lower_bound = Q1 - 1.5 * IQR\n",
        "    upper_bound = Q3 + 1.5 * IQR\n",
        "\n",
        "    # Limpiar valores atípicos\n",
        "    df['Dollars'] = df['Dollars'].apply(lambda x: x if lower_bound <= x <= upper_bound else None)\n",
        "\n",
        "    # Guardar el archivo limpio\n",
        "    df.to_csv(output_path, index=False)\n",
        "\n",
        "input_file_path = '/content/drive/MyDrive/Henry - Proyecto Final/DataSet_PF/DataSet_SQL1/purchases_final_modified_clean_sin_classification.csv'\n",
        "output_file_path = '/content/drive/MyDrive/Henry - Proyecto Final/DataSet_PF/DataSet_SQL1/purchases_cleaned.csv'\n",
        "clean_dollars_column(input_file_path, output_file_path)\n"
      ],
      "metadata": {
        "id": "_PoigHOA-w-R"
      },
      "execution_count": null,
      "outputs": []
    },
    {
      "cell_type": "code",
      "source": [
        "import pandas as pd\n",
        "\n",
        "# Lee el archivo CSV\n",
        "df = pd.read_csv('/content/drive/MyDrive/Henry - Proyecto Final/DataSet_PF/DataSet_SQL1/purchases_cleaned.csv')\n",
        "\n",
        "# Obtén los tipos de datos de cada columna\n",
        "data_types = df.dtypes\n",
        "\n",
        "# Imprime los tipos de datos\n",
        "print(data_types)"
      ],
      "metadata": {
        "colab": {
          "base_uri": "https://localhost:8080/"
        },
        "id": "bV-Bf9H8_jd0",
        "outputId": "e9efd080-de17-4ded-f9ce-08afdf2cafeb"
      },
      "execution_count": null,
      "outputs": [
        {
          "output_type": "stream",
          "name": "stdout",
          "text": [
            "InventoryId       object\n",
            "Store              int64\n",
            "Brand              int64\n",
            "Description       object\n",
            "Size              object\n",
            "VendorNumber       int64\n",
            "VendorName        object\n",
            "PONumber           int64\n",
            "PODate            object\n",
            "ReceivingDate     object\n",
            "InvoiceDate       object\n",
            "PayDate           object\n",
            "PurchasePrice    float64\n",
            "Quantity           int64\n",
            "Dollars          float64\n",
            "dtype: object\n"
          ]
        }
      ]
    },
    {
      "cell_type": "code",
      "source": [
        "import pandas as pd\n",
        "\n",
        "def adjust_terminators(input_path, output_path):\n",
        "    df = pd.read_csv(input_path, delimiter=',')\n",
        "\n",
        "    # Guardar el archivo CSV con terminadores de línea consistentes\n",
        "    df.to_csv(output_path, index=False, lineterminator='\\r\\n')\n",
        "\n",
        "input_file_path = '/content/drive/MyDrive/Henry - Proyecto Final/DataSet_PF/DataSet_SQL1/purchases_cleaned.csv'\n",
        "output_file_path = '/content/drive/MyDrive/Henry - Proyecto Final/DataSet_PF/DataSet_SQL1/purchases_adjusted.csv'\n",
        "adjust_terminators(input_file_path, output_file_path)\n",
        "\n",
        "print(f\"Archivo limpio guardado en: {output_file_path}\")\n"
      ],
      "metadata": {
        "colab": {
          "base_uri": "https://localhost:8080/"
        },
        "id": "mduSyabyENTJ",
        "outputId": "b262eaea-d3db-4af9-f956-c59fb942e6f1"
      },
      "execution_count": null,
      "outputs": [
        {
          "output_type": "stream",
          "name": "stdout",
          "text": [
            "Archivo limpio guardado en: /content/drive/MyDrive/Henry - Proyecto Final/DataSet_PF/DataSet_SQL1/purchases_adjusted.csv\n"
          ]
        }
      ]
    },
    {
      "cell_type": "code",
      "source": [
        "import pandas as pd\n",
        "\n",
        "# Ruta del archivo CSV\n",
        "file_path = '/content/drive/MyDrive/Henry - Proyecto Final/DataSet_PF/DataSet_SQL1/invoice_purchases_modified.csv'\n",
        "\n",
        "# Cargar el archivo CSV en un DataFrame de pandas\n",
        "df = pd.read_csv(file_path)\n",
        "\n",
        "# Explorar la tabla\n",
        "print(f'Dimensiones de la tabla: {df.shape}')  # Muestra el número de filas y columnas\n",
        "print('\\nPrimeras 5 filas:')\n",
        "print(df.head())  # Muestra las primeras 5 filas\n",
        "print('\\nInformación general:')\n",
        "print(df.info())  # Muestra información general, incluyendo tipos de datos y valores no nulos"
      ],
      "metadata": {
        "colab": {
          "base_uri": "https://localhost:8080/"
        },
        "id": "Nhc7vSXKEkR8",
        "outputId": "6260e5ce-32db-408c-d8e7-4a68d41090da"
      },
      "execution_count": null,
      "outputs": [
        {
          "output_type": "stream",
          "name": "stdout",
          "text": [
            "Dimensiones de la tabla: (5543, 10)\n",
            "\n",
            "Primeras 5 filas:\n",
            "   VendorNumber                   VendorName InvoiceDate  PONumber  \\\n",
            "0           105  ALTAMAR BRANDS LLC           2016-01-04      8124   \n",
            "1          4466  AMERICAN VINTAGE BEVERAGE    2016-01-07      8137   \n",
            "2           388  ATLANTIC IMPORTING COMPANY   2016-01-09      8169   \n",
            "3           480  BACARDI USA INC              2016-01-12      8106   \n",
            "4           516  BANFI PRODUCTS CORP          2016-01-07      8170   \n",
            "\n",
            "       PODate     PayDate  Quantity    Dollars  Freight Approval  \n",
            "0  2015-12-21  2016-02-16         6     214.26     3.47      NaN  \n",
            "1  2015-12-22  2016-02-21        15     140.55     8.57      NaN  \n",
            "2  2015-12-24  2016-02-16         5     106.60     4.61      NaN  \n",
            "3  2015-12-20  2016-02-05     10100  137483.78  2935.20      NaN  \n",
            "4  2015-12-24  2016-02-12      1935   15527.25   429.20      NaN  \n",
            "\n",
            "Información general:\n",
            "<class 'pandas.core.frame.DataFrame'>\n",
            "RangeIndex: 5543 entries, 0 to 5542\n",
            "Data columns (total 10 columns):\n",
            " #   Column        Non-Null Count  Dtype  \n",
            "---  ------        --------------  -----  \n",
            " 0   VendorNumber  5543 non-null   int64  \n",
            " 1   VendorName    5543 non-null   object \n",
            " 2   InvoiceDate   5543 non-null   object \n",
            " 3   PONumber      5543 non-null   int64  \n",
            " 4   PODate        5543 non-null   object \n",
            " 5   PayDate       5543 non-null   object \n",
            " 6   Quantity      5543 non-null   int64  \n",
            " 7   Dollars       5543 non-null   float64\n",
            " 8   Freight       5543 non-null   float64\n",
            " 9   Approval      374 non-null    object \n",
            "dtypes: float64(2), int64(3), object(5)\n",
            "memory usage: 433.2+ KB\n",
            "None\n"
          ]
        }
      ]
    },
    {
      "cell_type": "code",
      "source": [
        "import pandas as pd\n",
        "\n",
        "# Leer el archivo CSV desde la ubicación especificada\n",
        "file_path = '/content/drive/MyDrive/Henry - Proyecto Final/DataSet_PF/DataSet_SQL1/invoice_purchases_modified.csv'\n",
        "\n",
        "# Leer datos del archivo CSV\n",
        "df = pd.read_csv(file_path)\n",
        "\n",
        "# Reemplazar valores NaN en la columna Approval\n",
        "df['Approval'].fillna('Sin aprobación', inplace=True)\n",
        "\n",
        "# Guardar el archivo limpio de nuevo, si es necesario\n",
        "output_path = '/content/drive/MyDrive/Henry - Proyecto Final/DataSet_PF/DataSet_SQL1/invoice_purchases_modified_cleaned.csv'\n",
        "df.to_csv(output_path, index=False)\n",
        "\n",
        "print(f\"Archivo limpio guardado en: {output_path}\")\n",
        "\n",
        "# Si deseas hacer más análisis en Python, puedes continuar aquí\n",
        "print(df.head())\n"
      ],
      "metadata": {
        "colab": {
          "base_uri": "https://localhost:8080/"
        },
        "id": "b9YMpR-V7l96",
        "outputId": "9ff0dd57-998a-4c81-864a-a5d4d8d91d52"
      },
      "execution_count": null,
      "outputs": [
        {
          "output_type": "stream",
          "name": "stdout",
          "text": [
            "Archivo limpio guardado en: /content/drive/MyDrive/Henry - Proyecto Final/DataSet_PF/DataSet_SQL1/invoice_purchases_modified_cleaned.csv\n",
            "   VendorNumber                   VendorName InvoiceDate  PONumber  \\\n",
            "0           105  ALTAMAR BRANDS LLC           2016-01-04      8124   \n",
            "1          4466  AMERICAN VINTAGE BEVERAGE    2016-01-07      8137   \n",
            "2           388  ATLANTIC IMPORTING COMPANY   2016-01-09      8169   \n",
            "3           480  BACARDI USA INC              2016-01-12      8106   \n",
            "4           516  BANFI PRODUCTS CORP          2016-01-07      8170   \n",
            "\n",
            "       PODate     PayDate  Quantity    Dollars  Freight        Approval  \n",
            "0  2015-12-21  2016-02-16         6     214.26     3.47  Sin aprobación  \n",
            "1  2015-12-22  2016-02-21        15     140.55     8.57  Sin aprobación  \n",
            "2  2015-12-24  2016-02-16         5     106.60     4.61  Sin aprobación  \n",
            "3  2015-12-20  2016-02-05     10100  137483.78  2935.20  Sin aprobación  \n",
            "4  2015-12-24  2016-02-12      1935   15527.25   429.20  Sin aprobación  \n"
          ]
        },
        {
          "output_type": "stream",
          "name": "stderr",
          "text": [
            "<ipython-input-2-3d45020caa36>:10: FutureWarning: A value is trying to be set on a copy of a DataFrame or Series through chained assignment using an inplace method.\n",
            "The behavior will change in pandas 3.0. This inplace method will never work because the intermediate object on which we are setting values always behaves as a copy.\n",
            "\n",
            "For example, when doing 'df[col].method(value, inplace=True)', try using 'df.method({col: value}, inplace=True)' or df[col] = df[col].method(value) instead, to perform the operation inplace on the original object.\n",
            "\n",
            "\n",
            "  df['Approval'].fillna('Sin aprobación', inplace=True)\n"
          ]
        }
      ]
    },
    {
      "cell_type": "code",
      "source": [
        "import pandas as pd\n",
        "import re\n",
        "\n",
        "def check_data_inconsistencies(file_path):\n",
        "    df = pd.read_csv(file_path)\n",
        "\n",
        "    # Verificar espacios en blanco en cada columna\n",
        "    def check_whitespace(column):\n",
        "        whitespace_count = column.str.contains(r'^\\s+|\\s+$', na=False).sum()\n",
        "        if whitespace_count > 0:\n",
        "            print(f\"{whitespace_count} valores con espacios en blanco detectados en la columna '{column.name}'\")\n",
        "\n",
        "    # Verificar caracteres especiales en cada columna\n",
        "    def check_special_characters(column):\n",
        "        special_char_count = column.str.contains(r'[^\\w\\s,.]', na=False).sum()\n",
        "        if special_char_count > 0:\n",
        "            print(f\"{special_char_count} valores con caracteres especiales detectados en la columna '{column.name}'\")\n",
        "\n",
        "    # Verificar longitud de los valores en cada columna\n",
        "    def check_length(column, max_length):\n",
        "        long_values_count = column.str.len().gt(max_length, fill_value=False).sum()\n",
        "        if long_values_count > 0:\n",
        "            print(f\"{long_values_count} valores exceden la longitud máxima de {max_length} caracteres en la columna '{column.name}'\")\n",
        "\n",
        "    for column in df.select_dtypes(include=['object']).columns:\n",
        "        check_whitespace(df[column])\n",
        "        check_special_characters(df[column])\n",
        "        check_length(df[column], 255)  # Ajustar el valor máximo según sea necesario\n",
        "\n",
        "    print(\"Verificación completa\")\n",
        "\n",
        "# Ruta del archivo CSV\n",
        "file_path = '/content/drive/MyDrive/Henry - Proyecto Final/DataSet_PF/DataSet_SQL1/invoice_purchases_modified_cleaned.csv'\n",
        "\n",
        "# Ejecutar la verificación\n",
        "check_data_inconsistencies(file_path)\n"
      ],
      "metadata": {
        "colab": {
          "base_uri": "https://localhost:8080/"
        },
        "id": "aHjYQ1rc96wF",
        "outputId": "2c405c89-3f57-415c-fb9a-2b51fac738a1"
      },
      "execution_count": null,
      "outputs": [
        {
          "output_type": "stream",
          "name": "stdout",
          "text": [
            "5133 valores con espacios en blanco detectados en la columna 'VendorName'\n",
            "571 valores con caracteres especiales detectados en la columna 'VendorName'\n",
            "5543 valores con caracteres especiales detectados en la columna 'InvoiceDate'\n",
            "5543 valores con caracteres especiales detectados en la columna 'PODate'\n",
            "5543 valores con caracteres especiales detectados en la columna 'PayDate'\n",
            "Verificación completa\n"
          ]
        }
      ]
    },
    {
      "cell_type": "code",
      "source": [
        "import pandas as pd\n",
        "import re\n",
        "\n",
        "# Leer el archivo CSV\n",
        "file_path = '/content/drive/MyDrive/Henry - Proyecto Final/DataSet_PF/DataSet_SQL1/invoice_purchases_modified_cleaned.csv'\n",
        "df = pd.read_csv(file_path)\n",
        "\n",
        "# Función para eliminar espacios en blanco al inicio y al final\n",
        "def clean_whitespace(column):\n",
        "    return column.str.strip()\n",
        "\n",
        "# Función para eliminar caracteres especiales\n",
        "def remove_special_characters(column):\n",
        "    return column.apply(lambda x: re.sub(r'[^\\w\\s]', '', str(x)))\n",
        "\n",
        "# Limpiar espacios en blanco y caracteres especiales en la columna 'VendorName'\n",
        "df['VendorName'] = clean_whitespace(df['VendorName'])\n",
        "df['VendorName'] = remove_special_characters(df['VendorName'])\n",
        "\n",
        "# Eliminar caracteres especiales en las columnas de fechas\n",
        "df['InvoiceDate'] = remove_special_characters(df['InvoiceDate'])\n",
        "df['PODate'] = remove_special_characters(df['PODate'])\n",
        "df['PayDate'] = remove_special_characters(df['PayDate'])\n",
        "\n",
        "# Convertir las columnas de fechas de vuelta a formato de fecha\n",
        "df['InvoiceDate'] = pd.to_datetime(df['InvoiceDate'], format='%Y%m%d', errors='coerce')\n",
        "df['PODate'] = pd.to_datetime(df['PODate'], format='%Y%m%d', errors='coerce')\n",
        "df['PayDate'] = pd.to_datetime(df['PayDate'], format='%Y%m%d', errors='coerce')\n",
        "\n",
        "# Guardar el archivo limpio de nuevo\n",
        "output_path = '/content/drive/MyDrive/Henry - Proyecto Final/DataSet_PF/DataSet_SQL1/invoice_purchases_modified_cleaned_final.csv'\n",
        "df.to_csv(output_path, index=False)\n",
        "\n",
        "print(f\"Archivo limpio guardado en: {output_path}\")\n",
        "\n",
        "# Verificar algunos datos después de la limpieza\n",
        "print(df.head())\n"
      ],
      "metadata": {
        "colab": {
          "base_uri": "https://localhost:8080/"
        },
        "id": "uJ8C5j8GGNon",
        "outputId": "25636e14-c827-4b0a-a3ea-9ae8280515f2"
      },
      "execution_count": null,
      "outputs": [
        {
          "output_type": "stream",
          "name": "stdout",
          "text": [
            "Archivo limpio guardado en: /content/drive/MyDrive/Henry - Proyecto Final/DataSet_PF/DataSet_SQL1/invoice_purchases_modified_cleaned_final.csv\n",
            "   VendorNumber                  VendorName InvoiceDate  PONumber     PODate  \\\n",
            "0           105          ALTAMAR BRANDS LLC  2016-01-04      8124 2015-12-21   \n",
            "1          4466   AMERICAN VINTAGE BEVERAGE  2016-01-07      8137 2015-12-22   \n",
            "2           388  ATLANTIC IMPORTING COMPANY  2016-01-09      8169 2015-12-24   \n",
            "3           480             BACARDI USA INC  2016-01-12      8106 2015-12-20   \n",
            "4           516         BANFI PRODUCTS CORP  2016-01-07      8170 2015-12-24   \n",
            "\n",
            "     PayDate  Quantity    Dollars  Freight        Approval  \n",
            "0 2016-02-16         6     214.26     3.47  Sin aprobación  \n",
            "1 2016-02-21        15     140.55     8.57  Sin aprobación  \n",
            "2 2016-02-16         5     106.60     4.61  Sin aprobación  \n",
            "3 2016-02-05     10100  137483.78  2935.20  Sin aprobación  \n",
            "4 2016-02-12      1935   15527.25   429.20  Sin aprobación  \n"
          ]
        }
      ]
    },
    {
      "cell_type": "code",
      "source": [
        "import pandas as pd\n",
        "\n",
        "# Leer el archivo CSV\n",
        "file_path = '/content/drive/MyDrive/Henry - Proyecto Final/DataSet_PF/DataSet_SQL1/invoice_purchases_modified_cleaned_final.csv'\n",
        "df = pd.read_csv(file_path)\n",
        "\n",
        "# Verificar la columna `VendorNumber` para detectar caracteres no válidos\n",
        "invalid_vendor_numbers = df[~df['VendorNumber'].apply(lambda x: str(x).isdigit())]\n",
        "\n",
        "if not invalid_vendor_numbers.empty:\n",
        "    print(\"Valores no válidos en la columna 'VendorNumber':\")\n",
        "    print(invalid_vendor_numbers)\n",
        "else:\n",
        "    print(\"Todos los valores en la columna 'VendorNumber' son válidos.\")\n",
        "\n",
        "# Eliminar filas con valores no válidos en `VendorNumber`\n",
        "df = df[df['VendorNumber'].apply(lambda x: str(x).isdigit())]\n",
        "\n",
        "# Convertir la columna `VendorNumber` a enteros\n",
        "df['VendorNumber'] = df['VendorNumber'].astype(int)\n",
        "\n",
        "# Guardar el archivo limpio de nuevo\n",
        "output_path = '/content/drive/MyDrive/Henry - Proyecto Final/DataSet_PF/DataSet_SQL1/invoice_purchases_modified_cleaned_final_v2.csv'\n",
        "df.to_csv(output_path, index=False)\n",
        "\n",
        "print(f\"Archivo limpio guardado en: {output_path}\")\n"
      ],
      "metadata": {
        "colab": {
          "base_uri": "https://localhost:8080/"
        },
        "id": "6B7a8L5aHGuw",
        "outputId": "5cb27548-58df-4f95-8e3d-690a5386318a"
      },
      "execution_count": null,
      "outputs": [
        {
          "output_type": "stream",
          "name": "stdout",
          "text": [
            "Todos los valores en la columna 'VendorNumber' son válidos.\n",
            "Archivo limpio guardado en: /content/drive/MyDrive/Henry - Proyecto Final/DataSet_PF/DataSet_SQL1/invoice_purchases_modified_cleaned_final_v2.csv\n"
          ]
        }
      ]
    },
    {
      "cell_type": "code",
      "source": [
        "import pandas as pd\n",
        "\n",
        "# Ruta del archivo CSV\n",
        "input_file = '/content/drive/MyDrive/Henry - Proyecto Final/DataSet_PF/DataSet_SQL1/purchases_final_modified.csv'\n",
        "output_file = '/content/drive/MyDrive/Henry - Proyecto Final/DataSet_PF/DataSet_SQL1/purchases_final_modified_cleaned.csv'\n",
        "\n",
        "# Cargar el archivo CSV en un DataFrame\n",
        "df = pd.read_csv(input_file)\n",
        "\n",
        "# Mostrar los duplicados en la columna 'InventoryId'\n",
        "print(\"Duplicados encontrados:\")\n",
        "print(df[df.duplicated(subset='InventoryId', keep=False)])\n",
        "\n",
        "# Eliminar duplicados y conservar el primero\n",
        "df_cleaned = df.drop_duplicates(subset='InventoryId', keep='first')\n",
        "\n",
        "# Guardar el archivo limpio\n",
        "df_cleaned.to_csv(output_file, index=False)\n",
        "\n",
        "print(f\"Archivo limpio guardado en: {output_file}\")\n"
      ],
      "metadata": {
        "id": "zU27JRn_PcsF",
        "colab": {
          "base_uri": "https://localhost:8080/"
        },
        "outputId": "fe0cae98-cb48-46a2-c6c1-f474634cec38"
      },
      "execution_count": null,
      "outputs": [
        {
          "output_type": "stream",
          "name": "stdout",
          "text": [
            "Duplicados encontrados:\n",
            "                  InventoryId  Store  Brand                   Description  \\\n",
            "0           69_MOUNTMEND_8412     69   8412     Tequila Ocho Plata Fresno   \n",
            "1            30_CULCHETH_5255     30   5255  TGI Fridays Ultimte Mudslide   \n",
            "2           34_PITMERDEN_5215     34   5215  TGI Fridays Long Island Iced   \n",
            "3         1_HARDERSFIELD_5255      1   5255  TGI Fridays Ultimte Mudslide   \n",
            "4           76_DONCASTER_2034     76   2034     Glendalough Double Barrel   \n",
            "...                       ...    ...    ...                           ...   \n",
            "2372469     49_GARIGILL_22298     49  22298       Zorvino Vyds Sangiovese   \n",
            "2372470  1_HARDERSFIELD_19556      1  19556    Zorvino Bacca Z Blackberry   \n",
            "2372471   66_EANVERNESS_22297     66  22297            Zorvino Vyds Pearz   \n",
            "2372472    69_MOUNTMEND_19557     69  19557  Zorvino Fragole Z Strawberry   \n",
            "2372473    55_DRY GULCH_22298     55  22298       Zorvino Vyds Sangiovese   \n",
            "\n",
            "          Size  VendorNumber                   VendorName  PONumber  \\\n",
            "0        750mL           105  ALTAMAR BRANDS LLC               8124   \n",
            "1        1.75L          4466  AMERICAN VINTAGE BEVERAGE        8137   \n",
            "2        1.75L          4466  AMERICAN VINTAGE BEVERAGE        8137   \n",
            "3        1.75L          4466  AMERICAN VINTAGE BEVERAGE        8137   \n",
            "4        750mL           388  ATLANTIC IMPORTING COMPANY       8169   \n",
            "...        ...           ...                          ...       ...   \n",
            "2372469  750mL         90058  ZORVINO VINEYARDS               13593   \n",
            "2372470  750mL         90058  ZORVINO VINEYARDS               13593   \n",
            "2372471  750mL         90058  ZORVINO VINEYARDS               13593   \n",
            "2372472  750mL         90058  ZORVINO VINEYARDS               13593   \n",
            "2372473  750mL         90058  ZORVINO VINEYARDS               13593   \n",
            "\n",
            "             PODate ReceivingDate InvoiceDate     PayDate  PurchasePrice  \\\n",
            "0        2015-12-21    2016-01-02  2016-01-04  2016-02-16          35.71   \n",
            "1        2015-12-22    2016-01-01  2016-01-07  2016-02-21           9.35   \n",
            "2        2015-12-22    2016-01-02  2016-01-07  2016-02-21           9.41   \n",
            "3        2015-12-22    2016-01-01  2016-01-07  2016-02-21           9.35   \n",
            "4        2015-12-24    2016-01-02  2016-01-09  2016-02-16          21.32   \n",
            "...             ...           ...         ...         ...            ...   \n",
            "2372469  2016-12-19    2016-12-28  2017-01-09  2017-02-06           8.06   \n",
            "2372470  2016-12-19    2016-12-27  2017-01-09  2017-02-06           9.39   \n",
            "2372471  2016-12-19    2016-12-26  2017-01-09  2017-02-06           6.75   \n",
            "2372472  2016-12-19    2016-12-26  2017-01-09  2017-02-06           9.39   \n",
            "2372473  2016-12-19    2016-12-28  2017-01-09  2017-02-06           8.06   \n",
            "\n",
            "         Quantity  Dollars  \n",
            "0               6   214.26  \n",
            "1               4    37.40  \n",
            "2               5    47.05  \n",
            "3               6    56.10  \n",
            "4               5   106.60  \n",
            "...           ...      ...  \n",
            "2372469        12    96.72  \n",
            "2372470        12   112.68  \n",
            "2372471        12    81.00  \n",
            "2372472        12   112.68  \n",
            "2372473        12    96.72  \n",
            "\n",
            "[2315803 rows x 15 columns]\n",
            "Archivo limpio guardado en: /content/drive/MyDrive/Henry - Proyecto Final/DataSet_PF/DataSet_SQL1/purchases_final_modified_cleaned.csv\n"
          ]
        }
      ]
    },
    {
      "cell_type": "code",
      "source": [
        "import pandas as pd\n",
        "\n",
        "# Ruta del archivo CSV\n",
        "file_path = '/content/drive/MyDrive/Henry - Proyecto Final/DataSet_PF/DataSet_SQL1/purchases_final_modified_cleaned.csv'\n",
        "\n",
        "# Cargar el archivo CSV en un DataFrame de pandas\n",
        "df = pd.read_csv(file_path)\n",
        "\n",
        "# Obtener el número de filas\n",
        "num_rows = len(df)\n",
        "\n",
        "# Imprimir el número de filas\n",
        "print(f\"La tabla tiene {num_rows} filas.\")"
      ],
      "metadata": {
        "colab": {
          "base_uri": "https://localhost:8080/"
        },
        "id": "ftXdBj4FoRyf",
        "outputId": "c276454b-196e-4437-980c-862d38af5f2f"
      },
      "execution_count": null,
      "outputs": [
        {
          "output_type": "stream",
          "name": "stdout",
          "text": [
            "La tabla tiene 245907 filas.\n"
          ]
        }
      ]
    },
    {
      "cell_type": "code",
      "source": [
        "import pandas as pd\n",
        "\n",
        "# Ruta del archivo CSV\n",
        "file_path = '/content/drive/MyDrive/Henry - Proyecto Final/DataSet_PF/DataSet_SQL1/purchases_final_modified.csv'\n",
        "\n",
        "# Cargar el archivo CSV en un DataFrame de pandas\n",
        "df = pd.read_csv(file_path)\n",
        "\n",
        "# Verificar si hay valores duplicados en la columna 'VendorNumber'\n",
        "duplicate_vendor_numbers = df['VendorNumber'].duplicated().any()\n",
        "\n",
        "# Imprimir el resultado\n",
        "if duplicate_vendor_numbers:\n",
        "    print(\"Hay valores duplicados en la columna 'VendorNumber'.\")\n",
        "    # Mostrar los valores duplicados y su frecuencia:\n",
        "    print(df['VendorNumber'].value_counts()[df['VendorNumber'].value_counts() > 1])\n",
        "else:\n",
        "    print(\"No hay valores duplicados en la columna 'VendorNumber'.\")"
      ],
      "metadata": {
        "colab": {
          "base_uri": "https://localhost:8080/"
        },
        "id": "zPfFMltBv2Mz",
        "outputId": "d000b8fd-bad2-40d3-e50d-a32916542ee4"
      },
      "execution_count": null,
      "outputs": [
        {
          "output_type": "stream",
          "name": "stdout",
          "text": [
            "Hay valores duplicados en la columna 'VendorNumber'.\n",
            "VendorNumber\n",
            "3960     243326\n",
            "12546    189832\n",
            "1392     185574\n",
            "4425     176781\n",
            "3252     162567\n",
            "          ...  \n",
            "6280         16\n",
            "2            13\n",
            "200           8\n",
            "90033         2\n",
            "90026         2\n",
            "Name: count, Length: 121, dtype: int64\n"
          ]
        }
      ]
    },
    {
      "cell_type": "code",
      "source": [
        "import pandas as pd\n",
        "\n",
        "# Ruta del archivo CSV\n",
        "file_path = '/content/drive/MyDrive/Henry - Proyecto Final/DataSet_PF/DataSet_SQL1/purchases_final_modified.csv'\n",
        "\n",
        "# Cargar el archivo CSV en un DataFrame de pandas\n",
        "df = pd.read_csv(file_path)\n",
        "\n",
        "# Verificar si hay valores duplicados en la columna 'InventoryID'\n",
        "duplicate_inventory_ids = df['InventoryId'].duplicated().any()\n",
        "\n",
        "# Imprimir el resultado\n",
        "if duplicate_inventory_ids:\n",
        "    print(\"Hay valores duplicados en la columna 'InventoryId'.\")\n",
        "    # Mostrar los valores duplicados y su frecuencia:\n",
        "    print(df['InventoryId'].value_counts()[df['InventoryId'].value_counts() > 1])\n",
        "else:\n",
        "    print(\"No hay valores duplicados en la columna 'InventoryId'.\")"
      ],
      "metadata": {
        "colab": {
          "base_uri": "https://localhost:8080/"
        },
        "id": "-x-R7uk-w2SK",
        "outputId": "9d6b88fb-38cd-40d3-9705-17828d4ecb4d"
      },
      "execution_count": null,
      "outputs": [
        {
          "output_type": "stream",
          "name": "stdout",
          "text": [
            "Hay valores duplicados en la columna 'InventoryId'.\n",
            "InventoryId\n",
            "73_DONCASTER_8068      180\n",
            "73_DONCASTER_3545      178\n",
            "76_DONCASTER_1233      175\n",
            "76_DONCASTER_5364      174\n",
            "67_EANVERNESS_3545     171\n",
            "                      ... \n",
            "44_PORTHCRAWL_38542      2\n",
            "23_ARBINGTON_22696       2\n",
            "44_PORTHCRAWL_26787      2\n",
            "44_PORTHCRAWL_46201      2\n",
            "34_PITMERDEN_3666        2\n",
            "Name: count, Length: 189236, dtype: int64\n"
          ]
        }
      ]
    },
    {
      "cell_type": "code",
      "source": [
        "import pandas as pd\n",
        "\n",
        "# Ruta del archivo CSV\n",
        "file_path = '/content/drive/MyDrive/Henry - Proyecto Final/DataSet_PF/DataSet_SQL1/purchases_final_modified.csv'\n",
        "\n",
        "# Cargar el archivo CSV en un DataFrame de pandas\n",
        "df = pd.read_csv(file_path)\n",
        "\n",
        "# Verificar si hay valores duplicados en la columna 'BRAND'\n",
        "duplicate_brands = df['Brand'].duplicated().any()\n",
        "\n",
        "# Imprimir el resultado\n",
        "if duplicate_brands:\n",
        "    print(\"Hay valores duplicados en la columna 'Brand'.\")\n",
        "    # Mostrar los valores duplicados y su frecuencia:\n",
        "    print(df['Brand'].value_counts()[df['Brand'].value_counts() > 1])\n",
        "else:\n",
        "    print(\"No hay valores duplicados en la columna 'Brand'.\")"
      ],
      "metadata": {
        "colab": {
          "base_uri": "https://localhost:8080/"
        },
        "id": "QkUVLNTbxS11",
        "outputId": "6f6a190d-76c8-42fd-bb60-1ce936de19a6"
      },
      "execution_count": null,
      "outputs": [
        {
          "output_type": "stream",
          "name": "stdout",
          "text": [
            "Hay valores duplicados en la columna 'Brand'.\n",
            "Brand\n",
            "8068     7359\n",
            "3893     7166\n",
            "4261     6774\n",
            "1233     6584\n",
            "3405     6506\n",
            "         ... \n",
            "16696       2\n",
            "14341       2\n",
            "1492        2\n",
            "3475        2\n",
            "23470       2\n",
            "Name: count, Length: 9293, dtype: int64\n"
          ]
        }
      ]
    },
    {
      "cell_type": "code",
      "source": [
        "import pandas as pd\n",
        "\n",
        "# Lista de archivos CSV\n",
        "files = [\n",
        "    'big_inventory_modified.csv',\n",
        "    'end_inventory_modified.csv',\n",
        "    'purchases_final_modified.csv',\n",
        "    'sales_final_modified.csv'\n",
        "]\n",
        "\n",
        "# Rutas de directorios\n",
        "input_directory = '/content/drive/MyDrive/Henry - Proyecto Final/DataSet_PF/DataSet_SQL1/'\n",
        "output_directory = '/content/drive/MyDrive/Henry - Proyecto Final/DataSet_PF/DataSet_SQL/'\n",
        "\n",
        "# Iterar sobre cada archivo\n",
        "for file in files:\n",
        "    # Ruta completa del archivo de entrada y salida\n",
        "    input_path = input_directory + file\n",
        "    output_path = output_directory + file.replace('.csv', '_with_transactionid.csv')\n",
        "\n",
        "    # Cargar el archivo CSV en un DataFrame de pandas\n",
        "    df = pd.read_csv(input_path)\n",
        "\n",
        "    # Crear la columna TransactionID con autoincremento y tipo de dato INT\n",
        "    df['TransactionID'] = pd.Series(range(1, len(df) + 1), dtype='int')\n",
        "\n",
        "    # Guardar el DataFrame modificado en un nuevo archivo CSV\n",
        "    df.to_csv(output_path, index=False)\n",
        "\n",
        "    print(f\"Archivo {file} modificado y guardado en: {output_path}\")"
      ],
      "metadata": {
        "colab": {
          "base_uri": "https://localhost:8080/"
        },
        "id": "65d4KqFoQpio",
        "outputId": "c512d5d7-a343-41df-8fad-2fe73f46bf60"
      },
      "execution_count": null,
      "outputs": [
        {
          "output_type": "stream",
          "name": "stdout",
          "text": [
            "Archivo big_inventory_modified.csv modificado y guardado en: /content/drive/MyDrive/Henry - Proyecto Final/DataSet_PF/DataSet_SQL/big_inventory_modified_with_transactionid.csv\n",
            "Archivo end_inventory_modified.csv modificado y guardado en: /content/drive/MyDrive/Henry - Proyecto Final/DataSet_PF/DataSet_SQL/end_inventory_modified_with_transactionid.csv\n",
            "Archivo purchases_final_modified.csv modificado y guardado en: /content/drive/MyDrive/Henry - Proyecto Final/DataSet_PF/DataSet_SQL/purchases_final_modified_with_transactionid.csv\n",
            "Archivo sales_final_modified.csv modificado y guardado en: /content/drive/MyDrive/Henry - Proyecto Final/DataSet_PF/DataSet_SQL/sales_final_modified_with_transactionid.csv\n"
          ]
        }
      ]
    },
    {
      "cell_type": "code",
      "source": [
        "import pandas as pd\n",
        "\n",
        "# Ruta del archivo CSV\n",
        "file_path = '/content/drive/MyDrive/Henry - Proyecto Final/DataSet_PF/DataSet_SQL/purchases_final_modified_with_transactionid.csv'\n",
        "\n",
        "# Cargar el archivo CSV en un DataFrame de pandas\n",
        "df = pd.read_csv(file_path)\n",
        "\n",
        "# Mostrar las primeras 5 filas\n",
        "print(df.head())"
      ],
      "metadata": {
        "colab": {
          "base_uri": "https://localhost:8080/"
        },
        "id": "VtQLg_fLRT3x",
        "outputId": "cb9f996b-e55c-4738-9822-68e4ba914992"
      },
      "execution_count": null,
      "outputs": [
        {
          "output_type": "stream",
          "name": "stdout",
          "text": [
            "           InventoryId  Store  Brand                   Description   Size  \\\n",
            "0    69_MOUNTMEND_8412     69   8412     Tequila Ocho Plata Fresno  750mL   \n",
            "1     30_CULCHETH_5255     30   5255  TGI Fridays Ultimte Mudslide  1.75L   \n",
            "2    34_PITMERDEN_5215     34   5215  TGI Fridays Long Island Iced  1.75L   \n",
            "3  1_HARDERSFIELD_5255      1   5255  TGI Fridays Ultimte Mudslide  1.75L   \n",
            "4    76_DONCASTER_2034     76   2034     Glendalough Double Barrel  750mL   \n",
            "\n",
            "   VendorNumber                   VendorName  PONumber      PODate  \\\n",
            "0           105  ALTAMAR BRANDS LLC               8124  2015-12-21   \n",
            "1          4466  AMERICAN VINTAGE BEVERAGE        8137  2015-12-22   \n",
            "2          4466  AMERICAN VINTAGE BEVERAGE        8137  2015-12-22   \n",
            "3          4466  AMERICAN VINTAGE BEVERAGE        8137  2015-12-22   \n",
            "4           388  ATLANTIC IMPORTING COMPANY       8169  2015-12-24   \n",
            "\n",
            "  ReceivingDate InvoiceDate     PayDate  PurchasePrice  Quantity  Dollars  \\\n",
            "0    2016-01-02  2016-01-04  2016-02-16          35.71         6   214.26   \n",
            "1    2016-01-01  2016-01-07  2016-02-21           9.35         4    37.40   \n",
            "2    2016-01-02  2016-01-07  2016-02-21           9.41         5    47.05   \n",
            "3    2016-01-01  2016-01-07  2016-02-21           9.35         6    56.10   \n",
            "4    2016-01-02  2016-01-09  2016-02-16          21.32         5   106.60   \n",
            "\n",
            "   TransactionID  \n",
            "0              1  \n",
            "1              2  \n",
            "2              3  \n",
            "3              4  \n",
            "4              5  \n"
          ]
        }
      ]
    },
    {
      "cell_type": "code",
      "source": [
        "import pandas as pd\n",
        "\n",
        "# Ruta del archivo CSV\n",
        "file_path = '/content/drive/MyDrive/Henry - Proyecto Final/DataSet_PF/DataSet_SQL1/purchase_prices_2017_modified.csv'\n",
        "\n",
        "# Cargar el archivo CSV en un DataFrame de pandas\n",
        "df = pd.read_csv(file_path)\n",
        "\n",
        "# Verificar si hay valores duplicados en la columna 'Brand'\n",
        "duplicate_brands = df['Brand'].duplicated().any()\n",
        "\n",
        "# Imprimir el resultado\n",
        "if duplicate_brands:\n",
        "    print(\"Hay valores duplicados en la columna 'Brand'.\")\n",
        "    # Para ver los valores duplicados y su frecuencia, ejecuta este código:\n",
        "    print(df['Brand'].value_counts()[df['Brand'].value_counts() > 1])\n",
        "else:\n",
        "    print(\"No hay valores duplicados en la columna 'Brand'.\")"
      ],
      "metadata": {
        "id": "-_cgOIi9SUm-",
        "colab": {
          "base_uri": "https://localhost:8080/"
        },
        "outputId": "5ccd1774-184a-4858-f6e5-17f0dc0f4939"
      },
      "execution_count": null,
      "outputs": [
        {
          "output_type": "stream",
          "name": "stdout",
          "text": [
            "No hay valores duplicados en la columna 'Brand'.\n"
          ]
        }
      ]
    },
    {
      "cell_type": "code",
      "source": [
        "import pandas as pd\n",
        "\n",
        "# Ruta del archivo CSV\n",
        "file_path = '/content/drive/MyDrive/Henry - Proyecto Final/DataSet_PF/DataSet_SQL1/big_inventory_modified.csv'\n",
        "\n",
        "# Cargar el archivo CSV en un DataFrame de pandas\n",
        "df = pd.read_csv(file_path)\n",
        "\n",
        "# Verificar si hay valores duplicados en la columna 'Brand'\n",
        "duplicate_brands = df['Brand'].duplicated().any()\n",
        "\n",
        "# Imprimir el resultado\n",
        "if duplicate_brands:\n",
        "    print(\"Hay valores duplicados en la columna 'Brand'.\")\n",
        "    # Para ver los valores duplicados y su frecuencia, ejecuta este código:\n",
        "    print(df['Brand'].value_counts()[df['Brand'].value_counts() > 1])\n",
        "else:\n",
        "    print(\"No hay valores duplicados en la columna 'Brand'.\")"
      ],
      "metadata": {
        "colab": {
          "base_uri": "https://localhost:8080/"
        },
        "id": "lxkqoMGHqxGz",
        "outputId": "6f8b7a53-28f5-4a5c-ba64-ba4cda4be747"
      },
      "execution_count": null,
      "outputs": [
        {
          "output_type": "stream",
          "name": "stdout",
          "text": [
            "Hay valores duplicados en la columna 'Brand'.\n",
            "Brand\n",
            "2426     79\n",
            "1375     79\n",
            "8339     79\n",
            "4241     79\n",
            "4234     79\n",
            "         ..\n",
            "19658     2\n",
            "22073     2\n",
            "22173     2\n",
            "21960     2\n",
            "19637     2\n",
            "Name: count, Length: 6808, dtype: int64\n"
          ]
        }
      ]
    },
    {
      "cell_type": "code",
      "source": [
        "import pandas as pd\n",
        "\n",
        "# Ruta del archivo CSV\n",
        "file_path = '/content/drive/MyDrive/Henry - Proyecto Final/DataSet_PF/DataSet_SQL1/end_inventory_modified.csv'\n",
        "\n",
        "# Cargar el archivo CSV en un DataFrame de pandas\n",
        "df = pd.read_csv(file_path)\n",
        "\n",
        "# Verificar si hay valores duplicados en la columna 'Brand'\n",
        "duplicate_brands = df['Brand'].duplicated().any()\n",
        "\n",
        "# Imprimir el resultado\n",
        "if duplicate_brands:\n",
        "    print(\"Hay valores duplicados en la columna 'Brand'.\")\n",
        "    # Para ver los valores duplicados y su frecuencia, ejecuta este código:\n",
        "    print(df['Brand'].value_counts()[df['Brand'].value_counts() > 1])\n",
        "else:\n",
        "    print(\"No hay valores duplicados en la columna 'Brand'.\")"
      ],
      "metadata": {
        "colab": {
          "base_uri": "https://localhost:8080/"
        },
        "id": "DDQCOPxGtEz-",
        "outputId": "42893900-5078-44ff-ebb1-6db3644e28e2"
      },
      "execution_count": null,
      "outputs": [
        {
          "output_type": "stream",
          "name": "stdout",
          "text": [
            "Hay valores duplicados en la columna 'Brand'.\n",
            "Brand\n",
            "2122     80\n",
            "3859     80\n",
            "3877     80\n",
            "16806    80\n",
            "3878     80\n",
            "         ..\n",
            "8079      2\n",
            "590       2\n",
            "3628      2\n",
            "27095     2\n",
            "24531     2\n",
            "Name: count, Length: 7728, dtype: int64\n"
          ]
        }
      ]
    },
    {
      "cell_type": "code",
      "source": [
        "import pandas as pd\n",
        "\n",
        "# Ruta del archivo CSV\n",
        "file_path = '/content/drive/MyDrive/Henry - Proyecto Final/DataSet_PF/DataSet_SQL1/purchases_final_modified.csv'\n",
        "\n",
        "# Cargar el archivo CSV en un DataFrame de pandas\n",
        "df = pd.read_csv(file_path)\n",
        "\n",
        "# Verificar si hay valores duplicados en la columna 'Brand'\n",
        "duplicate_brands = df['Brand'].duplicated().any()\n",
        "\n",
        "# Imprimir el resultado\n",
        "if duplicate_brands:\n",
        "    print(\"Hay valores duplicados en la columna 'Brand'.\")\n",
        "    # Para ver los valores duplicados y su frecuencia, ejecuta este código:\n",
        "    print(df['Brand'].value_counts()[df['Brand'].value_counts() > 1])\n",
        "else:\n",
        "    print(\"No hay valores duplicados en la columna 'Brand'.\")"
      ],
      "metadata": {
        "colab": {
          "base_uri": "https://localhost:8080/"
        },
        "id": "g67_tflitLK3",
        "outputId": "e86afd4c-8509-47e6-8452-c941dcc60406"
      },
      "execution_count": null,
      "outputs": [
        {
          "output_type": "stream",
          "name": "stdout",
          "text": [
            "Hay valores duplicados en la columna 'Brand'.\n",
            "Brand\n",
            "8068     7359\n",
            "3893     7166\n",
            "4261     6774\n",
            "1233     6584\n",
            "3405     6506\n",
            "         ... \n",
            "16696       2\n",
            "14341       2\n",
            "1492        2\n",
            "3475        2\n",
            "23470       2\n",
            "Name: count, Length: 9293, dtype: int64\n"
          ]
        }
      ]
    },
    {
      "cell_type": "code",
      "source": [
        "import pandas as pd\n",
        "\n",
        "# Ruta del archivo CSV\n",
        "file_path = '/content/drive/MyDrive/Henry - Proyecto Final/DataSet_PF/DataSet_SQL1/sales_final_modified.csv'\n",
        "\n",
        "# Cargar el archivo CSV en un DataFrame de pandas\n",
        "df = pd.read_csv(file_path)\n",
        "\n",
        "# Verificar si hay valores duplicados en la columna 'Brand'\n",
        "duplicate_brands = df['Brand'].duplicated().any()\n",
        "\n",
        "# Imprimir el resultado\n",
        "if duplicate_brands:\n",
        "    print(\"Hay valores duplicados en la columna 'Brand'.\")\n",
        "    # Para ver los valores duplicados y su frecuencia, ejecuta este código:\n",
        "    print(df['Brand'].value_counts()[df['Brand'].value_counts() > 1])\n",
        "else:\n",
        "    print(\"No hay valores duplicados en la columna 'Brand'.\")"
      ],
      "metadata": {
        "colab": {
          "base_uri": "https://localhost:8080/"
        },
        "id": "4f7PBriRtmdz",
        "outputId": "f9082699-0bc8-441c-8d32-66edf7e09ad6"
      },
      "execution_count": null,
      "outputs": [
        {
          "output_type": "stream",
          "name": "stdout",
          "text": [
            "Hay valores duplicados en la columna 'Brand'.\n",
            "Brand\n",
            "3606     2077\n",
            "8111     2064\n",
            "1892     2016\n",
            "4261     1969\n",
            "5111     1962\n",
            "         ... \n",
            "21435       2\n",
            "21449       2\n",
            "21614       2\n",
            "608         2\n",
            "1274        2\n",
            "Name: count, Length: 6714, dtype: int64\n"
          ]
        }
      ]
    },
    {
      "cell_type": "code",
      "source": [
        "import pandas as pd\n",
        "\n",
        "# Ruta del archivo CSV\n",
        "file_path = '/content/drive/MyDrive/Henry - Proyecto Final/DataSet_PF/DataSet_SQL1/purchase_prices_2017_modified.csv'\n",
        "\n",
        "# Cargar el archivo CSV en un DataFrame de pandas\n",
        "df = pd.read_csv(file_path)\n",
        "\n",
        "# Verificar si hay valores duplicados en la columna 'Brand'\n",
        "if df['Brand'].is_unique:\n",
        "  print(\"Los valores en la columna 'Brand' son únicos.\")\n",
        "else:\n",
        "  print(\"Hay valores duplicados en la columna 'Brand'.\")\n",
        "  # Para ver los valores duplicados y su frecuencia, puedes usar:\n",
        "  print(df['Brand'].value_counts()[df['Brand'].value_counts() > 1])"
      ],
      "metadata": {
        "colab": {
          "base_uri": "https://localhost:8080/"
        },
        "id": "QgRyO0s91nTM",
        "outputId": "074fc842-9982-444c-d310-97c02235fab9"
      },
      "execution_count": null,
      "outputs": [
        {
          "output_type": "stream",
          "name": "stdout",
          "text": [
            "Los valores en la columna 'Brand' son únicos.\n"
          ]
        }
      ]
    },
    {
      "cell_type": "code",
      "source": [
        "import pandas as pd\n",
        "\n",
        "# Ruta de la tabla original\n",
        "original_table_path = '/content/drive/MyDrive/Henry - Proyecto Final/DataSet_PF/DataSet_SQL1/purchase_prices_2017_modified.csv'\n",
        "\n",
        "# Ruta para guardar la nueva tabla\n",
        "new_table_path = '/content/drive/MyDrive/Henry - Proyecto Final/DataSet_PF/DataSet_SQL1/Productos.csv'\n",
        "\n",
        "# Cargar la tabla original en un DataFrame\n",
        "df_original = pd.read_csv(original_table_path)\n",
        "\n",
        "# Crear un nuevo DataFrame con las columnas seleccionadas\n",
        "df_productos = df_original[['Description', 'Brand', 'Size']].copy()\n",
        "\n",
        "# Guardar el nuevo DataFrame como un archivo CSV\n",
        "df_productos.to_csv(new_table_path, index=False)\n",
        "\n",
        "print(f\"Tabla 'Productos' creada y guardada en: {new_table_path}\")"
      ],
      "metadata": {
        "colab": {
          "base_uri": "https://localhost:8080/"
        },
        "id": "w7IDnoE62Hw1",
        "outputId": "8b4aaaac-9f5a-467a-8ba7-295813095cf2"
      },
      "execution_count": null,
      "outputs": [
        {
          "output_type": "stream",
          "name": "stdout",
          "text": [
            "Tabla 'Productos' creada y guardada en: /content/drive/MyDrive/Henry - Proyecto Final/DataSet_PF/DataSet_SQL1/Productos.csv\n"
          ]
        }
      ]
    },
    {
      "cell_type": "code",
      "source": [
        "import pandas as pd\n",
        "\n",
        "# Lista de nombres de archivos CSV\n",
        "files = [\n",
        "    'big_inventory_modified.csv',\n",
        "    'end_inventory_modified.csv',\n",
        "    'purchase_prices_2017_modified.csv',\n",
        "    'purchases_final_modified.csv',\n",
        "    'sales_final_modified.csv',\n",
        "    'Productos.csv'\n",
        "]\n",
        "\n",
        "# Ruta del directorio donde se encuentran los archivos\n",
        "directory = '/content/drive/MyDrive/Henry - Proyecto Final/DataSet_PF/DataSet_SQL1/'\n",
        "\n",
        "# Iterar sobre cada archivo\n",
        "for file in files:\n",
        "    # Ruta completa del archivo\n",
        "    file_path = directory + file\n",
        "\n",
        "    # Cargar el archivo CSV en un DataFrame de pandas\n",
        "    df = pd.read_csv(file_path)\n",
        "\n",
        "    # Crear la columna ProductID con autoincremento\n",
        "    df['ProductID'] = range(1, len(df) + 1)\n",
        "\n",
        "    # Guardar el DataFrame modificado en el mismo archivo\n",
        "    df.to_csv(file_path, index=False)\n",
        "\n",
        "    print(f\"Columna 'ProductID' agregada al archivo: {file}\")\n",
        "\n",
        "print(\"Proceso completado para todos los archivos.\")"
      ],
      "metadata": {
        "colab": {
          "base_uri": "https://localhost:8080/"
        },
        "id": "xy0zQEELlUSb",
        "outputId": "b66966ec-e505-43bf-9a78-f267a6416ebf"
      },
      "execution_count": null,
      "outputs": [
        {
          "output_type": "stream",
          "name": "stdout",
          "text": [
            "Columna 'ProductID' agregada al archivo: big_inventory_modified.csv\n",
            "Columna 'ProductID' agregada al archivo: end_inventory_modified.csv\n",
            "Columna 'ProductID' agregada al archivo: purchase_prices_2017_modified.csv\n",
            "Columna 'ProductID' agregada al archivo: purchases_final_modified.csv\n",
            "Columna 'ProductID' agregada al archivo: sales_final_modified.csv\n",
            "Columna 'ProductID' agregada al archivo: Productos.csv\n",
            "Proceso completado para todos los archivos.\n"
          ]
        }
      ]
    },
    {
      "cell_type": "code",
      "source": [
        "import pandas as pd\n",
        "import os\n",
        "\n",
        "# Lista de nombres de archivos CSV\n",
        "files = [\n",
        "    'big_inventory_modified.csv',\n",
        "    'end_inventory_modified.csv',\n",
        "    'purchase_prices_2017_modified.csv',\n",
        "    'purchases_final_modified.csv',\n",
        "    'sales_final_modified.csv',\n",
        "    'Productos.csv'\n",
        "]\n",
        "\n",
        "# Ruta del directorio donde se encuentran los archivos\n",
        "directory = '/content/drive/MyDrive/Henry - Proyecto Final/DataSet_PF/DataSet_SQL1/'\n",
        "\n",
        "# Iterar sobre cada archivo\n",
        "for file in files:\n",
        "    # Ruta completa del archivo\n",
        "    file_path = os.path.join(directory, file)\n",
        "\n",
        "    # Cargar el archivo CSV en un DataFrame de pandas\n",
        "    df = pd.read_csv(file_path)\n",
        "\n",
        "    # Explorar las columnas\n",
        "    print(f\"Explorando columnas del archivo: {file}\")\n",
        "    print(f\"Nombre de columnas: {df.columns.tolist()}\")  # Imprimir nombres de columnas\n",
        "    print(f\"Tipos de datos:\\n{df.dtypes}\")  # Imprimir tipos de datos de cada columna\n",
        "    print(f\"Primeras 5 filas:\\n{df.head()}\")  # Imprimir las primeras 5 filas\n",
        "    print(\"\\n\" + \"-\" * 30 + \"\\n\")  # Separador visual entre archivos"
      ],
      "metadata": {
        "colab": {
          "base_uri": "https://localhost:8080/"
        },
        "id": "GUCV_ZeLnzDd",
        "outputId": "b4ba7201-5c90-4cd0-c19b-41db7b3771c2"
      },
      "execution_count": null,
      "outputs": [
        {
          "output_type": "stream",
          "name": "stdout",
          "text": [
            "Explorando columnas del archivo: big_inventory_modified.csv\n",
            "Nombre de columnas: ['InventoryId', 'Store', 'City', 'Brand', 'Description', 'Size', 'onHand', 'Price', 'startDate', 'ProductID']\n",
            "Tipos de datos:\n",
            "InventoryId     object\n",
            "Store            int64\n",
            "City            object\n",
            "Brand            int64\n",
            "Description     object\n",
            "Size            object\n",
            "onHand           int64\n",
            "Price          float64\n",
            "startDate       object\n",
            "ProductID        int64\n",
            "dtype: object\n",
            "Primeras 5 filas:\n",
            "         InventoryId  Store          City  Brand                  Description  \\\n",
            "0  1_HARDERSFIELD_58      1  HARDERSFIELD     58  Gekkeikan Black & Gold Sake   \n",
            "1  1_HARDERSFIELD_60      1  HARDERSFIELD     60       Canadian Club 1858 VAP   \n",
            "2  1_HARDERSFIELD_62      1  HARDERSFIELD     62     Herradura Silver Tequila   \n",
            "3  1_HARDERSFIELD_63      1  HARDERSFIELD     63   Herradura Reposado Tequila   \n",
            "4  1_HARDERSFIELD_72      1  HARDERSFIELD     72         No. 3 London Dry Gin   \n",
            "\n",
            "    Size  onHand  Price   startDate  ProductID  \n",
            "0  750mL       8  12.99  2016-01-01          1  \n",
            "1  750mL       7  10.99  2016-01-01          2  \n",
            "2  750mL       6  36.99  2016-01-01          3  \n",
            "3  750mL       3  38.99  2016-01-01          4  \n",
            "4  750mL       6  34.99  2016-01-01          5  \n",
            "\n",
            "------------------------------\n",
            "\n",
            "Explorando columnas del archivo: end_inventory_modified.csv\n",
            "Nombre de columnas: ['InventoryId', 'Store', 'City', 'Brand', 'Description', 'Size', 'onHand', 'Price', 'endDate', 'ProductID']\n",
            "Tipos de datos:\n",
            "InventoryId     object\n",
            "Store            int64\n",
            "City            object\n",
            "Brand            int64\n",
            "Description     object\n",
            "Size            object\n",
            "onHand           int64\n",
            "Price          float64\n",
            "endDate         object\n",
            "ProductID        int64\n",
            "dtype: object\n",
            "Primeras 5 filas:\n",
            "         InventoryId  Store          City  Brand                  Description  \\\n",
            "0  1_HARDERSFIELD_58      1  HARDERSFIELD     58  Gekkeikan Black & Gold Sake   \n",
            "1  1_HARDERSFIELD_62      1  HARDERSFIELD     62     Herradura Silver Tequila   \n",
            "2  1_HARDERSFIELD_63      1  HARDERSFIELD     63   Herradura Reposado Tequila   \n",
            "3  1_HARDERSFIELD_72      1  HARDERSFIELD     72         No. 3 London Dry Gin   \n",
            "4  1_HARDERSFIELD_75      1  HARDERSFIELD     75    Three Olives Tomato Vodka   \n",
            "\n",
            "    Size  onHand  Price     endDate  ProductID  \n",
            "0  750mL      11  12.99  2016-12-31          1  \n",
            "1  750mL       7  36.99  2016-12-31          2  \n",
            "2  750mL       7  38.99  2016-12-31          3  \n",
            "3  750mL       4  34.99  2016-12-31          4  \n",
            "4  750mL       7  14.99  2016-12-31          5  \n",
            "\n",
            "------------------------------\n",
            "\n",
            "Explorando columnas del archivo: purchase_prices_2017_modified.csv\n",
            "Nombre de columnas: ['Brand', 'Description', 'Price', 'Size', 'Volume', 'Classification', 'PurchasePrice', 'VendorNumber', 'VendorName', 'ProductID']\n",
            "Tipos de datos:\n",
            "Brand               int64\n",
            "Description        object\n",
            "Price             float64\n",
            "Size               object\n",
            "Volume             object\n",
            "Classification      int64\n",
            "PurchasePrice     float64\n",
            "VendorNumber        int64\n",
            "VendorName         object\n",
            "ProductID           int64\n",
            "dtype: object\n",
            "Primeras 5 filas:\n",
            "   Brand                  Description  Price   Size Volume  Classification  \\\n",
            "0     58  Gekkeikan Black & Gold Sake  12.99  750mL    750               1   \n",
            "1     62     Herradura Silver Tequila  36.99  750mL    750               1   \n",
            "2     63   Herradura Reposado Tequila  38.99  750mL    750               1   \n",
            "3     72         No. 3 London Dry Gin  34.99  750mL    750               1   \n",
            "4     75    Three Olives Tomato Vodka  14.99  750mL    750               1   \n",
            "\n",
            "   PurchasePrice  VendorNumber                   VendorName  ProductID  \n",
            "0           9.28          8320  SHAW ROSS INT L IMP LTD              1  \n",
            "1          28.67          1128  BROWN-FORMAN CORP                    2  \n",
            "2          30.46          1128  BROWN-FORMAN CORP                    3  \n",
            "3          26.11          9165  ULTRA BEVERAGE COMPANY LLP           4  \n",
            "4          10.94          7245  PROXIMO SPIRITS INC.                 5  \n",
            "\n",
            "------------------------------\n",
            "\n",
            "Explorando columnas del archivo: purchases_final_modified.csv\n",
            "Nombre de columnas: ['InventoryId', 'Store', 'Brand', 'Description', 'Size', 'VendorNumber', 'VendorName', 'PONumber', 'PODate', 'ReceivingDate', 'InvoiceDate', 'PayDate', 'PurchasePrice', 'Quantity', 'Dollars', 'ProductID']\n",
            "Tipos de datos:\n",
            "InventoryId       object\n",
            "Store              int64\n",
            "Brand              int64\n",
            "Description       object\n",
            "Size              object\n",
            "VendorNumber       int64\n",
            "VendorName        object\n",
            "PONumber           int64\n",
            "PODate            object\n",
            "ReceivingDate     object\n",
            "InvoiceDate       object\n",
            "PayDate           object\n",
            "PurchasePrice    float64\n",
            "Quantity           int64\n",
            "Dollars          float64\n",
            "ProductID          int64\n",
            "dtype: object\n",
            "Primeras 5 filas:\n",
            "           InventoryId  Store  Brand                   Description   Size  \\\n",
            "0    69_MOUNTMEND_8412     69   8412     Tequila Ocho Plata Fresno  750mL   \n",
            "1     30_CULCHETH_5255     30   5255  TGI Fridays Ultimte Mudslide  1.75L   \n",
            "2    34_PITMERDEN_5215     34   5215  TGI Fridays Long Island Iced  1.75L   \n",
            "3  1_HARDERSFIELD_5255      1   5255  TGI Fridays Ultimte Mudslide  1.75L   \n",
            "4    76_DONCASTER_2034     76   2034     Glendalough Double Barrel  750mL   \n",
            "\n",
            "   VendorNumber                   VendorName  PONumber      PODate  \\\n",
            "0           105  ALTAMAR BRANDS LLC               8124  2015-12-21   \n",
            "1          4466  AMERICAN VINTAGE BEVERAGE        8137  2015-12-22   \n",
            "2          4466  AMERICAN VINTAGE BEVERAGE        8137  2015-12-22   \n",
            "3          4466  AMERICAN VINTAGE BEVERAGE        8137  2015-12-22   \n",
            "4           388  ATLANTIC IMPORTING COMPANY       8169  2015-12-24   \n",
            "\n",
            "  ReceivingDate InvoiceDate     PayDate  PurchasePrice  Quantity  Dollars  \\\n",
            "0    2016-01-02  2016-01-04  2016-02-16          35.71         6   214.26   \n",
            "1    2016-01-01  2016-01-07  2016-02-21           9.35         4    37.40   \n",
            "2    2016-01-02  2016-01-07  2016-02-21           9.41         5    47.05   \n",
            "3    2016-01-01  2016-01-07  2016-02-21           9.35         6    56.10   \n",
            "4    2016-01-02  2016-01-09  2016-02-16          21.32         5   106.60   \n",
            "\n",
            "   ProductID  \n",
            "0          1  \n",
            "1          2  \n",
            "2          3  \n",
            "3          4  \n",
            "4          5  \n",
            "\n",
            "------------------------------\n",
            "\n",
            "Explorando columnas del archivo: sales_final_modified.csv\n",
            "Nombre de columnas: ['InventoryId', 'Store', 'Brand', 'Description', 'Size', 'SalesQuantity', 'SalesDollars', 'SalesPrice', 'SalesDate', 'Volume', 'Classification', 'ExciseTax', 'VendorNo', 'VendorName', 'ProductID']\n",
            "Tipos de datos:\n",
            "InventoryId        object\n",
            "Store               int64\n",
            "Brand               int64\n",
            "Description        object\n",
            "Size               object\n",
            "SalesQuantity       int64\n",
            "SalesDollars      float64\n",
            "SalesPrice        float64\n",
            "SalesDate          object\n",
            "Volume              int64\n",
            "Classification      int64\n",
            "ExciseTax         float64\n",
            "VendorNo            int64\n",
            "VendorName         object\n",
            "ProductID           int64\n",
            "dtype: object\n",
            "Primeras 5 filas:\n",
            "           InventoryId  Store  Brand                 Description        Size  \\\n",
            "0  1_HARDERSFIELD_1004      1   1004  Jim Beam w/2 Rocks Glasses       750mL   \n",
            "1  1_HARDERSFIELD_1004      1   1004  Jim Beam w/2 Rocks Glasses       750mL   \n",
            "2  1_HARDERSFIELD_1004      1   1004  Jim Beam w/2 Rocks Glasses       750mL   \n",
            "3  1_HARDERSFIELD_1004      1   1004  Jim Beam w/2 Rocks Glasses       750mL   \n",
            "4  1_HARDERSFIELD_1005      1   1005     Maker's Mark Combo Pack  375mL 2 Pk   \n",
            "\n",
            "   SalesQuantity  SalesDollars  SalesPrice SalesDate  Volume  Classification  \\\n",
            "0              1         16.49       16.49  1/1/2016     750               1   \n",
            "1              2         32.98       16.49  1/2/2016     750               1   \n",
            "2              1         16.49       16.49  1/3/2016     750               1   \n",
            "3              1         14.49       14.49  1/8/2016     750               1   \n",
            "4              2         69.98       34.99  1/9/2016     375               1   \n",
            "\n",
            "   ExciseTax  VendorNo                   VendorName  ProductID  \n",
            "0       0.79     12546  JIM BEAM BRANDS COMPANY              1  \n",
            "1       1.57     12546  JIM BEAM BRANDS COMPANY              2  \n",
            "2       0.79     12546  JIM BEAM BRANDS COMPANY              3  \n",
            "3       0.79     12546  JIM BEAM BRANDS COMPANY              4  \n",
            "4       0.79     12546  JIM BEAM BRANDS COMPANY              5  \n",
            "\n",
            "------------------------------\n",
            "\n",
            "Explorando columnas del archivo: Productos.csv\n",
            "Nombre de columnas: ['Description', 'Brand', 'Size', 'ProductID']\n",
            "Tipos de datos:\n",
            "Description    object\n",
            "Brand           int64\n",
            "Size           object\n",
            "ProductID       int64\n",
            "dtype: object\n",
            "Primeras 5 filas:\n",
            "                   Description  Brand   Size  ProductID\n",
            "0  Gekkeikan Black & Gold Sake     58  750mL          1\n",
            "1     Herradura Silver Tequila     62  750mL          2\n",
            "2   Herradura Reposado Tequila     63  750mL          3\n",
            "3         No. 3 London Dry Gin     72  750mL          4\n",
            "4    Three Olives Tomato Vodka     75  750mL          5\n",
            "\n",
            "------------------------------\n",
            "\n"
          ]
        }
      ]
    },
    {
      "cell_type": "code",
      "source": [
        "import pandas as pd\n",
        "import os\n",
        "\n",
        "# Lista de archivos CSV\n",
        "files = [\n",
        "    'big_inventory_modified.csv',\n",
        "    'end_inventory_modified.csv',\n",
        "    'purchase_prices_2017_modified.csv',\n",
        "    'purchases_final_modified.csv',\n",
        "    'sales_final_modified.csv',\n",
        "    'Productos.csv'\n",
        "]\n",
        "\n",
        "# Ruta del directorio donde se encuentran los archivos\n",
        "directory = '/content/drive/MyDrive/Henry - Proyecto Final/DataSet_PF/DataSet_SQL1/'\n",
        "\n",
        "# Función para generar el contenido del archivo format.fmt.txt\n",
        "def generate_fmt_content(df, file_name):\n",
        "    content = \"10.0\\n\"\n",
        "    for i, column in enumerate(df.columns, 1):\n",
        "        data_type = df[column].dtype\n",
        "\n",
        "        # Mapeo de tipos de datos de pandas a SQL Server\n",
        "        fmt_data_type = {\n",
        "            'int64': 'INT',\n",
        "            'float64': 'NUMERIC',\n",
        "            'object': 'VARCHAR',\n",
        "            'datetime64[ns]': 'DATETIME'\n",
        "        }.get(str(data_type), 'VARCHAR')  # Por defecto, VARCHAR si no se encuentra\n",
        "\n",
        "        # Calcular la longitud para VARCHAR\n",
        "        length = 255 if fmt_data_type == 'VARCHAR' else df[column].astype(str).str.len().max()\n",
        "\n",
        "        # Construir la línea del archivo format.fmt.txt\n",
        "        content += f'{i}\\t{fmt_data_type}\\t{length if length <= 255 else 255}\\t{length if length <= 255 else 255}\\t\"{column}\"\\tSQL_Latin1_General_CP1_CI_AS\\n'\n",
        "\n",
        "    return content\n",
        "\n",
        "# Generar archivos format.fmt.txt\n",
        "for file in files:\n",
        "    file_path = os.path.join(directory, file)\n",
        "    df = pd.read_csv(file_path)\n",
        "\n",
        "    # Generar el contenido del archivo format.fmt.txt\n",
        "    fmt_content = generate_fmt_content(df, file)\n",
        "\n",
        "    # Definir la ruta del archivo format.fmt.txt\n",
        "    fmt_file_path = os.path.join(directory, f'format_{file.replace(\".csv\", \".fmt.txt\")}')\n",
        "\n",
        "    # Guardar el archivo format.fmt.txt\n",
        "    with open(fmt_file_path, 'w') as f:\n",
        "        f.write(fmt_content)\n",
        "\n",
        "    print(f\"Archivo de formato creado: {fmt_file_path}\")"
      ],
      "metadata": {
        "colab": {
          "base_uri": "https://localhost:8080/"
        },
        "id": "KftVnuIxpA1f",
        "outputId": "93f1ed21-e705-4a8c-b34f-7a733ac263af"
      },
      "execution_count": null,
      "outputs": [
        {
          "output_type": "stream",
          "name": "stdout",
          "text": [
            "Archivo de formato creado: /content/drive/MyDrive/Henry - Proyecto Final/DataSet_PF/DataSet_SQL1/format_big_inventory_modified.fmt.txt\n",
            "Archivo de formato creado: /content/drive/MyDrive/Henry - Proyecto Final/DataSet_PF/DataSet_SQL1/format_end_inventory_modified.fmt.txt\n",
            "Archivo de formato creado: /content/drive/MyDrive/Henry - Proyecto Final/DataSet_PF/DataSet_SQL1/format_purchase_prices_2017_modified.fmt.txt\n",
            "Archivo de formato creado: /content/drive/MyDrive/Henry - Proyecto Final/DataSet_PF/DataSet_SQL1/format_purchases_final_modified.fmt.txt\n",
            "Archivo de formato creado: /content/drive/MyDrive/Henry - Proyecto Final/DataSet_PF/DataSet_SQL1/format_sales_final_modified.fmt.txt\n",
            "Archivo de formato creado: /content/drive/MyDrive/Henry - Proyecto Final/DataSet_PF/DataSet_SQL1/format_Productos.fmt.txt\n"
          ]
        }
      ]
    },
    {
      "cell_type": "code",
      "source": [
        "import pandas as pd\n",
        "\n",
        "# Ruta del archivo CSV\n",
        "file_path = '/content/drive/MyDrive/Henry - Proyecto Final/DataSet_PF/DataSet_SQL1/Productos.csv'\n",
        "\n",
        "# Cargar el archivo CSV en un DataFrame de pandas\n",
        "df = pd.read_csv(file_path)\n",
        "\n",
        "# Eliminar filas con valores nulos en las columnas 'Description' o 'Size'\n",
        "df = df.dropna(subset=['Description', 'Size'])\n",
        "\n",
        "# Guardar el DataFrame modificado en un nuevo archivo CSV\n",
        "df.to_csv('/content/drive/MyDrive/Henry - Proyecto Final/DataSet_PF/DataSet_SQL1/Productos_clean.csv', index=False)\n",
        "\n",
        "print(\"Archivo 'Productos_clean.csv' creado con valores nulos eliminados.\")"
      ],
      "metadata": {
        "colab": {
          "base_uri": "https://localhost:8080/"
        },
        "id": "gzND0HU_Nnt5",
        "outputId": "a500b32d-b725-4fcb-b961-c89540019f4f"
      },
      "execution_count": null,
      "outputs": [
        {
          "output_type": "stream",
          "name": "stdout",
          "text": [
            "Archivo 'Productos_clean.csv' creado con valores nulos eliminados.\n"
          ]
        }
      ]
    },
    {
      "cell_type": "code",
      "source": [
        "import pandas as pd\n",
        "\n",
        "# Ruta del archivo CSV\n",
        "file_path = '/content/drive/MyDrive/Henry - Proyecto Final/DataSet_PF/DataSet_SQL1/Productos_clean.csv'\n",
        "\n",
        "# Cargar el archivo CSV en un DataFrame de pandas\n",
        "df = pd.read_csv(file_path)\n",
        "\n",
        "# Obtener las dimensiones del DataFrame\n",
        "num_rows = df.shape[0]  # Número de filas\n",
        "num_cols = df.shape[1]  # Número de columnas\n",
        "\n",
        "# Imprimir las dimensiones\n",
        "print(f\"El archivo 'Productos.csv' tiene {num_rows} filas y {num_cols} columnas.\")"
      ],
      "metadata": {
        "colab": {
          "base_uri": "https://localhost:8080/"
        },
        "id": "nxptu0uJV8QE",
        "outputId": "657fe728-09d2-4aa0-c8b2-612f82f27de1"
      },
      "execution_count": null,
      "outputs": [
        {
          "output_type": "stream",
          "name": "stdout",
          "text": [
            "El archivo 'Productos.csv' tiene 12260 filas y 4 columnas.\n"
          ]
        }
      ]
    },
    {
      "cell_type": "code",
      "source": [
        "import pandas as pd\n",
        "\n",
        "# Ruta del archivo CSV\n",
        "file_path = '/content/drive/MyDrive/Henry - Proyecto Final/DataSet_PF/DataSet_SQL1/Productos.csv'\n",
        "\n",
        "# Cargar el archivo CSV en un DataFrame de pandas\n",
        "df = pd.read_csv(file_path)\n",
        "\n",
        "# Obtener los tipos de datos de las columnas\n",
        "data_types = df.dtypes\n",
        "\n",
        "# Generar la sentencia CREATE TABLE\n",
        "sql_create_table = \"CREATE TABLE Productos (\\n\"\n",
        "\n",
        "for column_name, data_type in data_types.items():\n",
        "    # Mapear tipos de datos de pandas a SQL\n",
        "    sql_data_type = {\n",
        "        'int64': 'INT',\n",
        "        'float64': 'DECIMAL(18,2)',  # Ajusta la precisión y la escala según sea necesario\n",
        "        'object': 'VARCHAR(255)',  # Ajusta la longitud máxima según sea necesario\n",
        "        'bool': 'BIT',\n",
        "        'datetime64[ns]': 'DATETIME'\n",
        "    }.get(str(data_type), 'VARCHAR(255)')  # Por defecto, VARCHAR(255)\n",
        "\n",
        "    # Agregar la columna a la sentencia CREATE TABLE\n",
        "    sql_create_table += f\"  {column_name} {sql_data_type},\\n\"\n",
        "\n",
        "# Eliminar la última coma y agregar el cierre de la sentencia\n",
        "sql_create_table = sql_create_table[:-2] + \"\\n);\"\n",
        "\n",
        "# Imprimir la sentencia CREATE TABLE\n",
        "print(sql_create_table)"
      ],
      "metadata": {
        "colab": {
          "base_uri": "https://localhost:8080/"
        },
        "id": "sUSB66YLWPm4",
        "outputId": "45ed2243-758b-4b83-9b16-d326e7f2b69d"
      },
      "execution_count": null,
      "outputs": [
        {
          "output_type": "stream",
          "name": "stdout",
          "text": [
            "CREATE TABLE Productos (\n",
            "  Description VARCHAR(255),\n",
            "  Brand INT,\n",
            "  Size VARCHAR(255),\n",
            "  ProductID INT\n",
            ");\n"
          ]
        }
      ]
    },
    {
      "cell_type": "code",
      "source": [
        "import pandas as pd\n",
        "\n",
        "# Ruta del archivo CSV\n",
        "file_path = '/content/drive/MyDrive/Henry - Proyecto Final/DataSet_PF/DataSet_SQL1/invoice_purchases_modified.csv'\n",
        "\n",
        "# Cargar el archivo CSV en un DataFrame de pandas\n",
        "df = pd.read_csv(file_path)\n",
        "\n",
        "# Crear la columna ProductID con autoincremento\n",
        "df['ProductID'] = range(1, len(df) + 1)\n",
        "\n",
        "# Guardar el DataFrame modificado en el mismo archivo\n",
        "df.to_csv(file_path, index=False)\n",
        "\n",
        "print(\"Columna 'ProductID' agregada al archivo: invoice_purchases_modified.csv\")\n",
        "\n",
        "print(\"Proceso completado.\")"
      ],
      "metadata": {
        "colab": {
          "base_uri": "https://localhost:8080/"
        },
        "id": "myVvJIr91lC3",
        "outputId": "30389e1e-26f0-4c1b-ae8a-4b2045b0e643"
      },
      "execution_count": null,
      "outputs": [
        {
          "output_type": "stream",
          "name": "stdout",
          "text": [
            "Columna 'ProductID' agregada al archivo: invoice_purchases_modified.csv\n",
            "Proceso completado.\n"
          ]
        }
      ]
    },
    {
      "cell_type": "code",
      "source": [
        "import pandas as pd\n",
        "\n",
        "# Lista de nombres de archivos CSV\n",
        "file_names = [\n",
        "    'big_inventory_modified.csv',\n",
        "    'end_inventory_modified.csv',\n",
        "    'purchase_prices_2017_modified.csv',\n",
        "    'purchases_final_modified.csv',\n",
        "    'sales_final_modified.csv',\n",
        "    'invoice_purchases_modified.csv'\n",
        "]\n",
        "\n",
        "# Ruta base para los archivos CSV\n",
        "base_path = '/content/drive/MyDrive/Henry - Proyecto Final/DataSet_PF/DataSet_SQL1/'\n",
        "\n",
        "# Iterar sobre cada archivo\n",
        "for file_name in file_names:\n",
        "    # Ruta completa del archivo CSV\n",
        "    file_path = base_path + file_name\n",
        "\n",
        "    # Cargar el archivo CSV en un DataFrame de pandas\n",
        "    df = pd.read_csv(file_path)\n",
        "\n",
        "    # Obtener los tipos de datos de las columnas\n",
        "    data_types = df.dtypes\n",
        "\n",
        "    # Generar la sentencia CREATE TABLE\n",
        "    sql_create_table = f\"CREATE TABLE {file_name[:-4]} (\\n\"\n",
        "\n",
        "    for column_name, data_type in data_types.items():\n",
        "        # Mapear tipos de datos de pandas a SQL\n",
        "        sql_data_type = {\n",
        "            'int64': 'INT',\n",
        "            'float64': 'DECIMAL(18,2)',  # Ajusta la precisión y la escala según sea necesario\n",
        "            'object': 'VARCHAR(255)',  # Ajusta la longitud máxima según sea necesario\n",
        "            'bool': 'BIT',\n",
        "            'datetime64[ns]': 'DATETIME'\n",
        "        }.get(str(data_type), 'VARCHAR(255)')  # Por defecto, VARCHAR(255)\n",
        "\n",
        "        # Agregar la columna a la sentencia CREATE TABLE\n",
        "        sql_create_table += f\"  {column_name} {sql_data_type},\\n\"\n",
        "\n",
        "    # Eliminar la última coma y agregar el cierre de la sentencia\n",
        "    sql_create_table = sql_create_table[:-2] + \"\\n);\"\n",
        "\n",
        "    # Imprimir la sentencia CREATE TABLE\n",
        "    print(sql_create_table)\n",
        "    print(\"\\n\")  # Agregar una línea en blanco para separar las sentencias"
      ],
      "metadata": {
        "id": "bcO0ifG_ev4i",
        "colab": {
          "base_uri": "https://localhost:8080/"
        },
        "outputId": "be9be249-c04e-4864-bc32-29f77a6b66ca"
      },
      "execution_count": null,
      "outputs": [
        {
          "output_type": "stream",
          "name": "stdout",
          "text": [
            "CREATE TABLE big_inventory_modified (\n",
            "  InventoryId VARCHAR(255),\n",
            "  Store INT,\n",
            "  City VARCHAR(255),\n",
            "  Brand INT,\n",
            "  Description VARCHAR(255),\n",
            "  Size VARCHAR(255),\n",
            "  onHand INT,\n",
            "  Price DECIMAL(18,2),\n",
            "  startDate VARCHAR(255),\n",
            "  ProductID INT\n",
            ");\n",
            "\n",
            "\n",
            "CREATE TABLE end_inventory_modified (\n",
            "  InventoryId VARCHAR(255),\n",
            "  Store INT,\n",
            "  City VARCHAR(255),\n",
            "  Brand INT,\n",
            "  Description VARCHAR(255),\n",
            "  Size VARCHAR(255),\n",
            "  onHand INT,\n",
            "  Price DECIMAL(18,2),\n",
            "  endDate VARCHAR(255),\n",
            "  ProductID INT\n",
            ");\n",
            "\n",
            "\n",
            "CREATE TABLE purchase_prices_2017_modified (\n",
            "  Brand INT,\n",
            "  Description VARCHAR(255),\n",
            "  Price DECIMAL(18,2),\n",
            "  Size VARCHAR(255),\n",
            "  Volume VARCHAR(255),\n",
            "  Classification INT,\n",
            "  PurchasePrice DECIMAL(18,2),\n",
            "  VendorNumber INT,\n",
            "  VendorName VARCHAR(255),\n",
            "  ProductID INT\n",
            ");\n",
            "\n",
            "\n",
            "CREATE TABLE purchases_final_modified (\n",
            "  InventoryId VARCHAR(255),\n",
            "  Store INT,\n",
            "  Brand INT,\n",
            "  Description VARCHAR(255),\n",
            "  Size VARCHAR(255),\n",
            "  VendorNumber INT,\n",
            "  VendorName VARCHAR(255),\n",
            "  PONumber INT,\n",
            "  PODate VARCHAR(255),\n",
            "  ReceivingDate VARCHAR(255),\n",
            "  InvoiceDate VARCHAR(255),\n",
            "  PayDate VARCHAR(255),\n",
            "  PurchasePrice DECIMAL(18,2),\n",
            "  Quantity INT,\n",
            "  Dollars DECIMAL(18,2),\n",
            "  ProductID INT\n",
            ");\n",
            "\n",
            "\n",
            "CREATE TABLE sales_final_modified (\n",
            "  InventoryId VARCHAR(255),\n",
            "  Store INT,\n",
            "  Brand INT,\n",
            "  Description VARCHAR(255),\n",
            "  Size VARCHAR(255),\n",
            "  SalesQuantity INT,\n",
            "  SalesDollars DECIMAL(18,2),\n",
            "  SalesPrice DECIMAL(18,2),\n",
            "  SalesDate VARCHAR(255),\n",
            "  Volume INT,\n",
            "  Classification INT,\n",
            "  ExciseTax DECIMAL(18,2),\n",
            "  VendorNo INT,\n",
            "  VendorName VARCHAR(255),\n",
            "  ProductID INT\n",
            ");\n",
            "\n",
            "\n",
            "CREATE TABLE invoice_purchases_modified (\n",
            "  VendorNumber INT,\n",
            "  VendorName VARCHAR(255),\n",
            "  InvoiceDate VARCHAR(255),\n",
            "  PONumber INT,\n",
            "  PODate VARCHAR(255),\n",
            "  PayDate VARCHAR(255),\n",
            "  Quantity INT,\n",
            "  Dollars DECIMAL(18,2),\n",
            "  Freight DECIMAL(18,2),\n",
            "  Approval VARCHAR(255),\n",
            "  ProductID INT\n",
            ");\n",
            "\n",
            "\n"
          ]
        }
      ]
    },
    {
      "cell_type": "code",
      "source": [
        "import pandas as pd\n",
        "\n",
        "# Ruta del archivo CSV\n",
        "file_path = '/content/drive/MyDrive/Henry - Proyecto Final/DataSet_PF/DataSet_SQL1/big_inventory_modified.csv'\n",
        "\n",
        "# Cargar el archivo CSV en un DataFrame de pandas\n",
        "df = pd.read_csv(file_path)\n",
        "\n",
        "# Obtener la longitud máxima de los valores en la columna ProductID\n",
        "max_length = df['ProductID'].astype(str).str.len().max()\n",
        "\n",
        "# Imprimir la longitud máxima\n",
        "print(f\"La longitud máxima de los valores en la columna ProductID es: {max_length}\")"
      ],
      "metadata": {
        "colab": {
          "base_uri": "https://localhost:8080/"
        },
        "id": "0vHZ0MvHqHMb",
        "outputId": "65f9542e-319a-4aad-aaa1-d92b92a0c45d"
      },
      "execution_count": null,
      "outputs": [
        {
          "output_type": "stream",
          "name": "stdout",
          "text": [
            "La longitud máxima de los valores en la columna ProductID es: 6\n"
          ]
        }
      ]
    },
    {
      "cell_type": "code",
      "source": [
        "import pandas as pd\n",
        "\n",
        "# Ruta del archivo CSV\n",
        "file_path = '/content/drive/MyDrive/Henry - Proyecto Final/DataSet_PF/DataSet_SQL1/big_inventory_modified.csv'\n",
        "\n",
        "# Cargar el archivo CSV en un DataFrame de pandas\n",
        "df = pd.read_csv(file_path)\n",
        "\n",
        "# Función para verificar si un valor es numérico\n",
        "def is_numeric(value):\n",
        "    try:\n",
        "        float(value)\n",
        "        return True\n",
        "    except ValueError:\n",
        "        return False\n",
        "\n",
        "# Evaluar la columna ProductID para valores no numéricos o caracteres ocultos\n",
        "non_numeric_values = df[~df['ProductID'].astype(str).apply(is_numeric)]\n",
        "\n",
        "# Imprimir los valores no numéricos\n",
        "print(\"Valores no numéricos o con caracteres ocultos en ProductID:\")\n",
        "print(non_numeric_values)\n",
        "\n",
        "# Verificar caracteres especiales o espacios en blanco\n",
        "special_chars_or_spaces = df[df['ProductID'].astype(str).str.contains(r'[^0-9]')]\n",
        "print(\"\\nValores con caracteres especiales o espacios en blanco en ProductID:\")\n",
        "print(special_chars_or_spaces)"
      ],
      "metadata": {
        "colab": {
          "base_uri": "https://localhost:8080/"
        },
        "id": "dnyy2D27wfOo",
        "outputId": "e2ba9a5f-6a83-4c37-bf84-33f109392daa"
      },
      "execution_count": null,
      "outputs": [
        {
          "output_type": "stream",
          "name": "stdout",
          "text": [
            "Valores no numéricos o con caracteres ocultos en ProductID:\n",
            "Empty DataFrame\n",
            "Columns: [InventoryId, Store, City, Brand, Description, Size, onHand, Price, startDate, ProductID]\n",
            "Index: []\n",
            "\n",
            "Valores con caracteres especiales o espacios en blanco en ProductID:\n",
            "Empty DataFrame\n",
            "Columns: [InventoryId, Store, City, Brand, Description, Size, onHand, Price, startDate, ProductID]\n",
            "Index: []\n"
          ]
        }
      ]
    },
    {
      "cell_type": "code",
      "source": [
        "import pandas as pd\n",
        "\n",
        "# Ruta del archivo CSV\n",
        "file_path = '/content/drive/MyDrive/Henry - Proyecto Final/DataSet_PF/DataSet_SQL1/purchase_prices_2017_modified.csv'\n",
        "\n",
        "# Cargar el archivo CSV en un DataFrame de pandas\n",
        "df = pd.read_csv(file_path)\n",
        "\n",
        "# 1. Validar la columna ProductID\n",
        "\n",
        "# Verificar si hay valores vacíos\n",
        "empty_values = df['ProductID'].isnull().sum()\n",
        "print(f\"Valores vacíos en ProductID: {empty_values}\")\n",
        "\n",
        "# Verificar si hay valores no numéricos\n",
        "non_numeric_values = df['ProductID'][~df['ProductID'].apply(lambda x: str(x).isdigit())].count()\n",
        "print(f\"Valores no numéricos en ProductID: {non_numeric_values}\")\n",
        "\n",
        "# Verificar si hay caracteres especiales\n",
        "special_char_values = df['ProductID'][df['ProductID'].astype(str).str.contains(r'[^\\w\\s]', na=False)].count()\n",
        "print(f\"Valores con caracteres especiales en ProductID: {special_char_values}\")\n",
        "\n",
        "# 2. Abordar las inconsistencias (ejemplo)\n",
        "\n",
        "# Si se encuentran valores vacíos, se pueden rellenar con un valor predeterminado o eliminar las filas\n",
        "if empty_values > 0:\n",
        "    # df['ProductID'].fillna(-1, inplace=True)  # Rellenar con -1\n",
        "    df.dropna(subset=['ProductID'], inplace=True)  # Eliminar filas con valores vacíos\n",
        "    pass #Para que siga funcionando\n",
        "# Si se encuentran valores no numéricos, se pueden convertir a numéricos o eliminar las filas\n",
        "if non_numeric_values > 0:\n",
        "    df['ProductID'] = pd.to_numeric(df['ProductID'], errors='coerce')  # Convertir a numérico\n",
        "    # df.dropna(subset=['ProductID'], inplace=True)  # Eliminar filas con valores no numéricos\n",
        "    pass #Para que siga funcionando\n",
        "# Si se encuentran caracteres especiales, se pueden eliminar o reemplazar\n",
        "if special_char_values > 0:\n",
        "    df['ProductID'] = df['ProductID'].astype(str).str.replace(r'[^\\w\\s]', '', regex=True)  # Eliminar caracteres especiales\n",
        "    pass #Para que siga funcionando\n",
        "\n",
        "# 3. Guardar el archivo modificado (opcional)\n",
        "\n",
        "df.to_csv(file_path, index=False)\n",
        "print(\"Archivo modificado guardado.\")"
      ],
      "metadata": {
        "id": "6iDJKTpW9g9w",
        "colab": {
          "base_uri": "https://localhost:8080/"
        },
        "outputId": "b67327cb-b99c-4832-8ddf-fdd7cf568251"
      },
      "execution_count": null,
      "outputs": [
        {
          "output_type": "stream",
          "name": "stdout",
          "text": [
            "Valores vacíos en ProductID: 0\n",
            "Valores no numéricos en ProductID: 0\n",
            "Valores con caracteres especiales en ProductID: 0\n",
            "Archivo modificado guardado.\n"
          ]
        }
      ]
    },
    {
      "cell_type": "code",
      "source": [
        "import pandas as pd\n",
        "\n",
        "# Ruta del archivo CSV\n",
        "file_path = '/content/drive/MyDrive/Henry - Proyecto Final/DataSet_PF/DataSet_SQL1/purchase_prices_2017_modified.csv'\n",
        "\n",
        "# Cargar el archivo CSV en un DataFrame de pandas\n",
        "df = pd.read_csv(file_path)\n",
        "\n",
        "# Verificar si hay valores nulos en todo el DataFrame\n",
        "null_values = df.isnull().sum()\n",
        "\n",
        "# Imprimir la cantidad de valores nulos por columna\n",
        "print(\"Valores nulos por columna:\")\n",
        "print(null_values)\n",
        "\n",
        "# Verificar si hay algún valor nulo en todo el DataFrame\n",
        "if df.isnull().values.any():\n",
        "    print(\"\\nHay valores nulos en el DataFrame.\")\n",
        "else:\n",
        "    print(\"\\nNo hay valores nulos en el DataFrame.\")"
      ],
      "metadata": {
        "colab": {
          "base_uri": "https://localhost:8080/"
        },
        "id": "yydB7NYK936M",
        "outputId": "4660f714-6a93-4da1-f145-c695d692f738"
      },
      "execution_count": null,
      "outputs": [
        {
          "output_type": "stream",
          "name": "stdout",
          "text": [
            "Valores nulos por columna:\n",
            "Brand             0\n",
            "Description       1\n",
            "Price             0\n",
            "Size              1\n",
            "Volume            1\n",
            "Classification    0\n",
            "PurchasePrice     0\n",
            "VendorNumber      0\n",
            "VendorName        0\n",
            "ProductID         0\n",
            "dtype: int64\n",
            "\n",
            "Hay valores nulos en el DataFrame.\n"
          ]
        }
      ]
    },
    {
      "cell_type": "code",
      "source": [
        "import pandas as pd\n",
        "\n",
        "# Ruta del archivo CSV\n",
        "file_path = '/content/drive/MyDrive/Henry - Proyecto Final/DataSet_PF/DataSet_SQL1/purchase_prices_2017_modified.csv'\n",
        "\n",
        "# Cargar el archivo CSV en un DataFrame de pandas\n",
        "df = pd.read_csv(file_path)\n",
        "\n",
        "# Eliminar filas con valores nulos en las columnas especificadas\n",
        "df.dropna(subset=['Description', 'Size', 'Volume'], inplace=True)\n",
        "\n",
        "# Guardar el DataFrame modificado en el mismo archivo\n",
        "df.to_csv(file_path, index=False)\n",
        "\n",
        "print(\"Valores nulos eliminados en las columnas 'Description', 'Size', y 'Volume'.\")\n",
        "print(\"Archivo guardado.\")"
      ],
      "metadata": {
        "colab": {
          "base_uri": "https://localhost:8080/"
        },
        "id": "QYVXZ_kkFTWM",
        "outputId": "35c21f0a-470d-459b-8984-7f3badfded25"
      },
      "execution_count": null,
      "outputs": [
        {
          "output_type": "stream",
          "name": "stdout",
          "text": [
            "Valores nulos eliminados en las columnas 'Description', 'Size', y 'Volume'.\n",
            "Archivo guardado.\n"
          ]
        }
      ]
    },
    {
      "cell_type": "code",
      "source": [
        "import pandas as pd\n",
        "\n",
        "# Ruta del archivo CSV\n",
        "file_path = '/content/drive/MyDrive/Henry - Proyecto Final/DataSet_PF/DataSet_SQL1/purchase_prices_2017_modified.csv'\n",
        "\n",
        "# Cargar el archivo CSV en un DataFrame de pandas\n",
        "df = pd.read_csv(file_path)\n",
        "\n",
        "# Lista de filas problemáticas\n",
        "problem_rows = [162, 544, 551, 568, 580, 680, 698, 735, 761, 771, 779]\n",
        "\n",
        "# Eliminar las filas problemáticas\n",
        "df.drop(problem_rows, inplace=True)\n",
        "\n",
        "# Restablecer el índice\n",
        "df.reset_index(drop=True, inplace=True)\n",
        "\n",
        "# Guardar el archivo modificado\n",
        "df.to_csv(file_path, index=False)\n",
        "\n",
        "print(\"Filas problemáticas eliminadas.\")\n",
        "print(\"Archivo guardado.\")"
      ],
      "metadata": {
        "colab": {
          "base_uri": "https://localhost:8080/"
        },
        "id": "yZpWTdMBFs3S",
        "outputId": "210742cd-92aa-4c6c-e6ba-559f2f162753"
      },
      "execution_count": null,
      "outputs": [
        {
          "output_type": "stream",
          "name": "stdout",
          "text": [
            "Filas problemáticas eliminadas.\n",
            "Archivo guardado.\n"
          ]
        }
      ]
    },
    {
      "cell_type": "code",
      "source": [
        "import pandas as pd\n",
        "\n",
        "# Ruta del archivo CSV\n",
        "file_path = '/content/drive/MyDrive/Henry - Proyecto Final/DataSet_PF/DataSet_SQL1/purchase_prices_2017_modified.csv'\n",
        "\n",
        "# Cargar el archivo CSV en un DataFrame de pandas\n",
        "df = pd.read_csv(file_path)\n",
        "\n",
        "# Lista de filas problemáticas (actualizada)\n",
        "problem_rows = [162, 543, 549, 565, 576, 675, 692, 728, 753, 762, 769]\n",
        "\n",
        "# Eliminar las filas problemáticas\n",
        "df.drop(problem_rows, inplace=True)\n",
        "\n",
        "# Restablecer el índice\n",
        "df.reset_index(drop=True, inplace=True)\n",
        "\n",
        "# Guardar el archivo modificado\n",
        "df.to_csv(file_path, index=False)\n",
        "\n",
        "print(\"Filas problemáticas eliminadas.\")\n",
        "print(\"Archivo guardado.\")"
      ],
      "metadata": {
        "colab": {
          "base_uri": "https://localhost:8080/"
        },
        "id": "9AYHxocjGsqv",
        "outputId": "a67df8e1-8a1e-491a-eab0-9641fa002e4f"
      },
      "execution_count": null,
      "outputs": [
        {
          "output_type": "stream",
          "name": "stdout",
          "text": [
            "Filas problemáticas eliminadas.\n",
            "Archivo guardado.\n"
          ]
        }
      ]
    },
    {
      "cell_type": "code",
      "source": [
        "import pandas as pd\n",
        "\n",
        "# Ruta del archivo CSV que contiene los datos de Productos\n",
        "file_path = '/content/drive/MyDrive/Henry - Proyecto Final/DataSet_PF/DataSet_SQL1/Productos.csv'\n",
        "\n",
        "# Cargar el archivo CSV en un DataFrame de pandas\n",
        "df = pd.read_csv(file_path)\n",
        "\n",
        "# Eliminar duplicados en la columna ProductID (clave primaria)\n",
        "df.drop_duplicates(subset=['ProductID'], keep='first', inplace=True)\n",
        "\n",
        "# Guardar el DataFrame modificado en un nuevo archivo CSV\n",
        "df.to_csv(file_path, index=False)\n",
        "\n",
        "print(\"Duplicados en la columna 'ProductID' eliminados.\")\n",
        "print(\"Archivo guardado.\")"
      ],
      "metadata": {
        "colab": {
          "base_uri": "https://localhost:8080/"
        },
        "id": "wPRGSHOUhPVS",
        "outputId": "9f9c0412-08f8-4e1a-c482-2140c001560b"
      },
      "execution_count": null,
      "outputs": [
        {
          "output_type": "stream",
          "name": "stdout",
          "text": [
            "Duplicados en la columna 'ProductID' eliminados.\n",
            "Archivo guardado.\n"
          ]
        }
      ]
    },
    {
      "cell_type": "code",
      "source": [
        "import pandas as pd\n",
        "\n",
        "# Paso 1: Leer el archivo CSV\n",
        "file_path = r'/content/drive/MyDrive/Henry - Proyecto Final/DataSet_PF/DataSet_SQL1/Productos.csv'  # Ruta del archivo CSV\n",
        "data = pd.read_csv(file_path)\n",
        "\n",
        "# Paso 2: Identificar duplicados en la clave primaria (ProductID)\n",
        "if 'ProductID' not in data.columns:\n",
        "    raise ValueError(\"La columna 'ProductID' no existe en los datos.\")\n",
        "\n",
        "# Verifica duplicados\n",
        "duplicados = data[data.duplicated(subset='ProductID', keep=False)]\n",
        "print(f\"Duplicados encontrados:\\n{duplicados}\")\n",
        "\n",
        "# Paso 3: Eliminar duplicados dejando la primera ocurrencia\n",
        "data_cleaned = data.drop_duplicates(subset='ProductID', keep='first')\n",
        "\n",
        "# Paso 4: Guardar el archivo limpio\n",
        "cleaned_file_path = r'/content/drive/MyDrive/Henry - Proyecto Final/DataSet_PF/DataSet_SQL1/Productos.csv'\n",
        "data_cleaned.to_csv(cleaned_file_path, index=False)\n",
        "print(f\"Archivo limpio guardado en: {cleaned_file_path}\")"
      ],
      "metadata": {
        "colab": {
          "base_uri": "https://localhost:8080/"
        },
        "id": "7uVdjR5MhYEq",
        "outputId": "bf5f29ef-9b47-4e51-e797-2c26f7676a24"
      },
      "execution_count": null,
      "outputs": [
        {
          "output_type": "stream",
          "name": "stdout",
          "text": [
            "Duplicados encontrados:\n",
            "Empty DataFrame\n",
            "Columns: [Description, Brand, Size, ProductID]\n",
            "Index: []\n",
            "Archivo limpio guardado en: /content/drive/MyDrive/Henry - Proyecto Final/DataSet_PF/DataSet_SQL1/Productos.csv\n"
          ]
        }
      ]
    },
    {
      "cell_type": "code",
      "source": [
        "import pandas as pd\n",
        "\n",
        "# Ruta del archivo CSV que contiene los datos de Productos\n",
        "file_path = '/content/drive/MyDrive/Henry - Proyecto Final/DataSet_PF/DataSet_SQL1/Productos.csv'\n",
        "\n",
        "# Cargar el archivo CSV en un DataFrame de pandas\n",
        "df = pd.read_csv(file_path)\n",
        "\n",
        "# Obtener todas las columnas excepto ProductID\n",
        "columns_to_check = df.columns.difference(['ProductID'])\n",
        "\n",
        "# Buscar duplicados en las columnas especificadas\n",
        "duplicates = df[df.duplicated(subset=columns_to_check, keep=False)]\n",
        "\n",
        "# Imprimir los duplicados (si existen)\n",
        "if not duplicates.empty:\n",
        "    print(\"Se encontraron duplicados:\")\n",
        "    print(duplicates)\n",
        "else:\n",
        "    print(\"No se encontraron duplicados.\")"
      ],
      "metadata": {
        "colab": {
          "base_uri": "https://localhost:8080/"
        },
        "id": "u2rglcpBjq1F",
        "outputId": "7e50cca1-5854-455a-a18b-507ba7f50145"
      },
      "execution_count": null,
      "outputs": [
        {
          "output_type": "stream",
          "name": "stdout",
          "text": [
            "No se encontraron duplicados.\n"
          ]
        }
      ]
    },
    {
      "cell_type": "code",
      "source": [],
      "metadata": {
        "id": "kMHbqiEjmInq"
      },
      "execution_count": null,
      "outputs": []
    }
  ]
}